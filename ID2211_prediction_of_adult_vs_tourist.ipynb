{
  "cells": [
    {
      "cell_type": "markdown",
      "source": [
        "# Classifying and analyzing temporal travel patterns (Tourist vs. Resident)\r\n"
      ],
      "metadata": {
        "nteract": {
          "transient": {
            "deleting": false
          }
        }
      }
    },
    {
      "cell_type": "markdown",
      "source": [
        "## 1. Setup and Imports"
      ],
      "metadata": {
        "nteract": {
          "transient": {
            "deleting": false
          }
        }
      }
    },
    {
      "cell_type": "markdown",
      "source": [
        "### Imports"
      ],
      "metadata": {
        "nteract": {
          "transient": {
            "deleting": false
          }
        }
      }
    },
    {
      "cell_type": "code",
      "source": [
        "# Spark SQL Imports\r\n",
        "from pyspark.sql.types import *\r\n",
        "from pyspark.sql import functions as F\r\n",
        "\r\n",
        "# ML Algorithms\r\n",
        "from sklearn.model_selection import train_test_split\r\n",
        "from sklearn.ensemble import RandomForestClassifier\r\n",
        "from sklearn.metrics import accuracy_score, classification_report, confusion_matrix, f1_score\r\n",
        "\r\n",
        "# Common Data Science Imports\r\n",
        "import pandas as pd\r\n",
        "import numpy as np\r\n",
        "import matplotlib.pyplot as plt"
      ],
      "outputs": [
        {
          "output_type": "display_data",
          "data": {
            "application/vnd.livy.statement-meta+json": {
              "spark_pool": "dslsmall",
              "session_id": "463",
              "statement_id": 2,
              "statement_ids": [
                2
              ],
              "state": "finished",
              "livy_statement_state": "available",
              "queued_time": "2024-05-19T12:43:05.1672957Z",
              "session_start_time": "2024-05-19T12:43:05.2270873Z",
              "execution_start_time": "2024-05-19T12:46:44.6623677Z",
              "execution_finish_time": "2024-05-19T12:47:08.0365826Z",
              "spark_jobs": null,
              "parent_msg_id": "0e1dc6d5-fb67-44f6-903a-d3ad39a00bba"
            },
            "text/plain": "StatementMeta(dslsmall, 463, 2, Finished, Available)"
          },
          "metadata": {}
        }
      ],
      "execution_count": 1,
      "metadata": {}
    },
    {
      "cell_type": "code",
      "source": [
        "#import sys\r\n",
        "#import pyspark\r\n",
        "#import matplotlib\r\n",
        "#import sklearn\r\n",
        "#\r\n",
        "## Print out the version information\r\n",
        "#print(\"Python version:\", sys.version)\r\n",
        "#print(\"PySpark version:\", pyspark.__version__)\r\n",
        "#print(\"Pandas version:\", pd.__version__)\r\n",
        "#print(\"NumPy version:\", np.__version__)\r\n",
        "#print(\"Matplotlib version:\", matplotlib.__version__)\r\n",
        "#print(\"Scikit-learn version:\", sklearn.__version__)"
      ],
      "outputs": [
        {
          "output_type": "display_data",
          "data": {
            "application/vnd.livy.statement-meta+json": {
              "spark_pool": "dslsmall",
              "session_id": "463",
              "statement_id": 9,
              "statement_ids": [
                9
              ],
              "state": "finished",
              "livy_statement_state": "available",
              "queued_time": "2024-05-19T12:49:42.8304875Z",
              "session_start_time": null,
              "execution_start_time": "2024-05-19T12:49:42.9781081Z",
              "execution_finish_time": "2024-05-19T12:49:43.1558429Z",
              "spark_jobs": null,
              "parent_msg_id": "401fd643-f895-4150-aee3-e64587095707"
            },
            "text/plain": "StatementMeta(dslsmall, 463, 9, Finished, Available)"
          },
          "metadata": {}
        },
        {
          "output_type": "stream",
          "name": "stdout",
          "text": [
            "Python version: 3.10.6 | packaged by conda-forge | (main, Aug 22 2022, 20:35:26) [GCC 10.4.0]\nPySpark version: 3.3.1\nPandas version: 1.5.1\nNumPy version: 1.23.4\nMatplotlib version: 3.6.2\nScikit-learn version: 1.1.3\n"
          ]
        }
      ],
      "execution_count": 8,
      "metadata": {
        "jupyter": {
          "source_hidden": false,
          "outputs_hidden": false
        },
        "nteract": {
          "transient": {
            "deleting": false
          }
        }
      }
    },
    {
      "cell_type": "markdown",
      "source": [
        "### Constants"
      ],
      "metadata": {
        "nteract": {
          "transient": {
            "deleting": false
          }
        }
      }
    },
    {
      "cell_type": "code",
      "source": [
        "# May Months (Normal)\r\n",
        "start_date = \"2023-03-08 00:00:00\"\r\n",
        "end_date = \"2023-07-14 00:00:00\"\r\n",
        "MAY_MONTHS = [start_date, end_date]\r\n",
        "\r\n",
        "# July Months (Abnormal)\r\n",
        "start_date = \"2023-05-10 00:00:00\"\r\n",
        "end_date = \"2023-09-16 00:00:00\"\r\n",
        "JULY_MONTHS = [start_date, end_date]\r\n",
        "\r\n",
        "# May Week (Normal)\r\n",
        "start_date = \"2023-05-08 00:00:00\"\r\n",
        "end_date = \"2023-05-14 00:00:00\"\r\n",
        "MAY_WEEK = [start_date, end_date]\r\n",
        "\r\n",
        "# July Week (Abnormal)\r\n",
        "start_date = \"2023-07-10 00:00:00\"\r\n",
        "end_date = \"2023-07-16 00:00:00\"\r\n",
        "JULY_WEEK = [start_date, end_date]\r\n",
        "\r\n",
        "# Day and hour mappings\r\n",
        "DAY_MAPPING = {1: 'Monday', 2: 'Tuesday', 3: 'Wednesday', 4: 'Thursday', 5: 'Friday', 6: 'Saturday', 7: 'Sunday' }\r\n",
        "\r\n",
        "HOUR_MAPPING = {\r\n",
        "    0: 'Night', 1: 'Night', 2: 'Night', 3: 'Night', 4: 'Night',\r\n",
        "    5: 'Morning', 6: 'Morning', 7: 'Morning', 8: 'Morning', 9: 'Morning',\r\n",
        "    10: 'Day', 11: 'Day', 12: 'Day', 13: 'Day', 14: 'Day', 15: 'Day',\r\n",
        "    16: 'Afternoon', 17: 'Afternoon', 18: 'Afternoon',\r\n",
        "    19: 'Evening', 20: 'Evening', 21: 'Evening', 22: 'Evening', 23: 'Evening'\r\n",
        "}\r\n",
        "\r\n",
        "# Sorting weekly profiles\r\n",
        "HOUR_ORDER = ['Night', 'Morning', 'Day', 'Afternoon', 'Evening']\r\n",
        "DAYS_ORDER = ['Monday', 'Tuesday', 'Wednesday', 'Thursday', 'Friday', 'Saturday', 'Sunday']"
      ],
      "outputs": [
        {
          "output_type": "display_data",
          "data": {
            "application/vnd.livy.statement-meta+json": {
              "spark_pool": "dslsmall",
              "session_id": "462",
              "statement_id": 4,
              "statement_ids": [
                4
              ],
              "state": "finished",
              "livy_statement_state": "available",
              "queued_time": "2024-05-19T04:10:44.6941164Z",
              "session_start_time": null,
              "execution_start_time": "2024-05-19T04:12:30.1511451Z",
              "execution_finish_time": "2024-05-19T04:12:30.3242808Z",
              "spark_jobs": null,
              "parent_msg_id": "7280fbea-933a-4123-8afd-028e93fec3f0"
            },
            "text/plain": "StatementMeta(dslsmall, 462, 4, Finished, Available)"
          },
          "metadata": {}
        }
      ],
      "execution_count": 3,
      "metadata": {
        "jupyter": {
          "source_hidden": false,
          "outputs_hidden": false
        },
        "nteract": {
          "transient": {
            "deleting": false
          }
        }
      }
    },
    {
      "cell_type": "code",
      "source": [
        "TICKET_CATEGORIES = [\"Adult\", \"Tourist\", \"Single\"]\r\n",
        "CATEGORY_MAPPING = {\r\n",
        "    \"30-dagarsbiljetter\": \"Adult\", \"90-dagarsbiljetter\": \"Adult\", \"Års-och företagsbiljetter\": \"Adult\",\r\n",
        "    \"7-dagarsbiljett\": \"Tourist\", \"72-timmarsbiljett inkl app\": \"Tourist\", \"24-timmarsbiljett inkl app\": \"Tourist\",  # 24timmarsbiljett inkl app\r\n",
        "    \"Reskassa\": \"Single\", \"Kontaktlöst\": \"Single\", \"Mobilbiljett\": \"Single\", \"Zon och Automatbiljetter\": \"Single\" # Previously Single\r\n",
        "}\r\n",
        "\r\n",
        "TICKET_MAPPING = {\r\n",
        "    'Skolbiljett vårtermin': 'Skol- termins och fritidsbiljett', 'Skolbiljett hösttermin': 'Skol- termins och fritidsbiljett', 'Skolbiljett vårtermin skola': 'Skol- termins och fritidsbiljett', \r\n",
        "    'Skolbiljett hösttermin skola': 'Skol- termins och fritidsbiljett', 'Skolbiljett 90 dagar': 'Skol- termins och fritidsbiljett', 'Skolbiljett 90 dagar skola': 'Skol- termins och fritidsbiljett', \r\n",
        "    'Skolbiljett 120 dagar': 'Skol- termins och fritidsbiljett', 'Skolbiljett 120 dagar skola': 'Skol- termins och fritidsbiljett', 'Fritidsbiljett Hösttermin': 'Skol- termins och fritidsbiljett', \r\n",
        "    'Fritidsbiljett 90 dagar': 'Skol- termins och fritidsbiljett', 'Fritidsbiljett vårtermin': 'Skol- termins och fritidsbiljett', 'Fritidsbiljett 120 dagar': 'Skol- termins och fritidsbiljett', \r\n",
        "    'Läsårsbiljett plus skola': 'Skol- termins och fritidsbiljett', 'Läsårsbiljett skola': 'Skol- termins och fritidsbiljett', 'Fritidsbiljett 90 dagar skola': 'Skol- termins och fritidsbiljett', \r\n",
        "    'Skolbiljett UL/SL vårtermin': 'Skol- termins och fritidsbiljett', 'Fritidsbiljett UL/SL vårtermin': 'Skol- termins och fritidsbiljett', \r\n",
        "    'Skolbiljett UL/SL vårtermin Skola': 'Skol- termins och fritidsbiljett', 'Skolbiljett UL/SL hösttermin': 'Skol- termins och fritidsbiljett', \r\n",
        "    'Skolbiljett UL/SL hösttermin Skola': 'Skol- termins och fritidsbiljett', 'Fritidsbiljett UL/SL hösttermin': 'Skol- termins och fritidsbiljett', \r\n",
        "    'Fritidsbiljett 120 dagar skola': 'Skol- termins och fritidsbiljett', 'Fritidsbiljett HT Skola': 'Skol- termins och fritidsbiljett', \r\n",
        "    'Fritidsbiljett VT Skola': 'Skol- termins och fritidsbiljett', 'USLUL125': 'Zon och Automatbiljetter', 'USLUL25': 'Zon och Automatbiljetter', 'Årsbiljett Resplus': 'Års-och företagsbiljetter', \r\n",
        "    'Reskassa': 'Reskassa', '7-dagar vuxen': '7-dagarsbiljett', '7-dagar vuxen ftg': '7-dagarsbiljett', '24-timmar vuxen': '24-timmarsbiljett inkl app', '72-timmar vuxen': '72-timmarsbiljett inkl app', \r\n",
        "    'Arlanda + SL vuxen endast 1 passage': 'Zon och Automatbiljetter', 'Enkelbiljett_vuxen': 'Zon och Automatbiljetter', 'Enkelbiljett vuxen': 'Kontaktlöst', '30-dagar rabatterad': '30-dagarsbiljetter', \r\n",
        "    '30-dagar rabatterad ftg': '30-dagarsbiljetter', '30-dagar Arlanda rabatterad': '30-dagarsbiljetter', '90-dagar rabatterad': '90-dagarsbiljetter', '90-dagar rabatterad ftg': '90-dagarsbiljetter', \r\n",
        "    'Årsbiljett Jan-Dec rabatterad': 'Års-och företagsbiljetter', 'Årsbiljett rabatterad ftg': 'Års-och företagsbiljetter', 'Årsbiljett rabatterad': 'Års-och företagsbiljetter', \r\n",
        "    '7-dagar rabatterad': '7-dagarsbiljett', '7-dagar rabatterad ftg': '7-dagarsbiljett', '24-timmar rabatterad': '24-timmarsbiljett inkl app', '72-timmar rabatterad': '72-timmarsbiljett inkl app', \r\n",
        "    'Arlanda + SL rabatterad endast 1 passage': 'Zon och Automatbiljetter', 'WAX 30 dagar rabatterad': '30-dagarsbiljetter', 'Årsbiljett Jan-Dec FTG- rabatterad': 'Års-och företagsbiljetter', \r\n",
        "    'WAX 30-dagarsbiljett rabatterad FTG': '30-dagarsbiljetter', 'Årsbiljett Ftg rabatterad': 'Års-och företagsbiljetter', 'Enkelbiljett_rabatterad': 'Zon och Automatbiljetter', \r\n",
        "    'Enkelbiljett rabatterad': 'Kontaktlöst', 'Årsbiljett rabatterad sep - aug FTG': 'Års-och företagsbiljetter', 'RAB': 'Mobilbiljett', 'RABP': 'Zon och Automatbiljetter', \r\n",
        "    'Årsbiljett rabatterad jan - dec FTG': 'Års-och företagsbiljetter', 'Årsbiljett rabatterad feb - jan FTG': 'Års-och företagsbiljetter', 'Årsbiljett rabatterad mar - feb FTG': 'Års-och företagsbiljetter', \r\n",
        "    'Årsbiljett rabatterad apr - mar FTG': 'Års-och företagsbiljetter', 'Årsbiljett rabatterad maj - apr FTG': 'Års-och företagsbiljetter', 'Årsbiljett rabatterad jun - maj FTG': 'Års-och företagsbiljetter', \r\n",
        "    'Årsbiljett rabatterad jul - jun FTG': 'Års-och företagsbiljetter', 'Årsbiljett rabatterad aug - jul FTG': 'Års-och företagsbiljetter', 'Årsbiljett rabatterad okt - sep FTG': 'Års-och företagsbiljetter', \r\n",
        "    'Årsbiljett rabatterad nov - okt FTG': 'Års-och företagsbiljetter', 'Årsbiljett rabatterad dec - nov FTG': 'Års-och företagsbiljetter', 'MORAB30': '30-dagarsbiljetter', 'MORAB30P': '30-dagarsbiljetter', \r\n",
        "    'MORAB90': '90-dagarsbiljetter', 'MORAB365': 'Års-och företagsbiljetter', '30-dagar vuxen': '30-dagarsbiljetter', '30-dagar vuxen ftg': '30-dagarsbiljetter', \r\n",
        "    '30-dagar Arlanda vuxen': '30-dagarsbiljetter', '30-dagar UL/SL vuxen': '30-dagarsbiljetter', '90-dagar vuxen': '90-dagarsbiljetter', '90-dagar vuxen ftg': '90-dagarsbiljetter', \r\n",
        "    'Årsbiljett Jan-Dec vuxen': 'Års-och företagsbiljetter', 'Årsbiljett vuxen ftg': 'Års-och företagsbiljetter', 'Årsbiljett vuxen': 'Års-och företagsbiljetter', 'WAX 30 dagar vuxen': '30-dagarsbiljetter', \r\n",
        "    'Årsbiljett Jan-Dec FTG- vuxen': 'Års-och företagsbiljetter', 'WAX 30-dagarsbiljett vuxen FTG': '30-dagarsbiljetter', 'Årsbiljett Ftg vuxen': 'Års-och företagsbiljetter', \r\n",
        "    'Årsbiljett vuxen sep - aug FTG': 'Års-och företagsbiljetter', 'VUX': 'Mobilbiljett', 'VSLUL125': 'Zon och Automatbiljetter', 'VSLUL25': 'Zon och Automatbiljetter', 'VUXP': 'Zon och Automatbiljetter', \r\n",
        "    'Årsbiljett vuxen jan - dec FTG': 'Års-och företagsbiljetter', 'Årsbiljett vuxen feb - jan FTG': 'Års-och företagsbiljetter', 'Årsbiljett vuxen mar - feb FTG': 'Års-och företagsbiljetter', \r\n",
        "    'Årsbiljett vuxen apr - mar FTG': 'Års-och företagsbiljetter', 'Årsbiljett vuxen maj - apr FTG': 'Års-och företagsbiljetter', 'Årsbiljett vuxen jun - maj FTG': 'Års-och företagsbiljetter', \r\n",
        "    'Årsbiljett vuxen jul - jun FTG': 'Års-och företagsbiljetter', 'Årsbiljett vuxen aug - jul FTG': 'Års-och företagsbiljetter', 'Årsbiljett vuxen okt - sep FTG': 'Års-och företagsbiljetter', \r\n",
        "    'Årsbiljett vuxen nov - okt FTG': 'Års-och företagsbiljetter', 'Årsbiljett vuxen dec - nov FTG': 'Års-och företagsbiljetter', 'MOVUX30': '30-dagarsbiljetter', 'MOVUX30P': '30-dagarsbiljetter', \r\n",
        "    'MOVUX90': '90-dagarsbiljetter', 'MOVUX90P': '90-dagarsbiljetter', 'MOVUX365': 'Års-och företagsbiljetter', \r\n",
        "    'VUX30D': '30-dagarsbiljetter', 'VUX90D': '90-dagarsbiljetter', 'VUX30DP': '30-dagarsbiljetter',\r\n",
        "    'VUX120MIN': '', 'VUX120MIN': '',\r\n",
        "    'VUX24H': '24-timmarsbiljett inkl app', 'VUX72H': '72-timmarsbiljett inkl app', 'VUX7D': '7-dagarsbiljett', \r\n",
        "    'RAB72H': '72-timmarsbiljett inkl app', 'RAB24HUL': '24-timmarsbiljett inkl app', 'RAB24H': '24-timmarsbiljett inkl app', '24-timmar vuxen ftg': '24-timmarsbiljett inkl app', 'RAB7D': '7-dagarsbiljett'\r\n",
        "}"
      ],
      "outputs": [
        {
          "output_type": "display_data",
          "data": {
            "application/vnd.livy.statement-meta+json": {
              "spark_pool": "dslsmall",
              "session_id": "462",
              "statement_id": 5,
              "statement_ids": [
                5
              ],
              "state": "finished",
              "livy_statement_state": "available",
              "queued_time": "2024-05-19T04:11:10.5588524Z",
              "session_start_time": null,
              "execution_start_time": "2024-05-19T04:12:30.5129137Z",
              "execution_finish_time": "2024-05-19T04:12:30.6747053Z",
              "spark_jobs": null,
              "parent_msg_id": "2b70e925-47b7-4f3d-927a-435489441454"
            },
            "text/plain": "StatementMeta(dslsmall, 462, 5, Finished, Available)"
          },
          "metadata": {}
        }
      ],
      "execution_count": 4,
      "metadata": {
        "jupyter": {
          "source_hidden": false,
          "outputs_hidden": false
        },
        "nteract": {
          "transient": {
            "deleting": false
          }
        }
      }
    },
    {
      "cell_type": "markdown",
      "source": [
        "## Show ticket types available"
      ],
      "metadata": {
        "nteract": {
          "transient": {
            "deleting": false
          }
        }
      }
    },
    {
      "cell_type": "code",
      "source": [
        "def find_ticket_category(product_name):\r\n",
        "    # Convert the product name to lowercase to ensure case-insensitive matching\r\n",
        "    product_name = product_name.lower()\r\n",
        "    \r\n",
        "    # Iterate over each key in the mapping\r\n",
        "    for key, category in TICKET_MAPPING.items():\r\n",
        "        # If the key is a substring of the product name, return the category\r\n",
        "        if key.lower() in product_name:\r\n",
        "            return category\r\n",
        "    # If no keys match, return 'Unknown'\r\n",
        "    return 'Unknown'\r\n",
        "\r\n",
        "def get_ticket_types():\r\n",
        "    product_query = \"\"\"\r\n",
        "            SELECT \r\n",
        "                ProductName, SalesProductGroupName AS TicketType\r\n",
        "            FROM  `analysis_dm`.`DimValidationProduct` \r\n",
        "            WHERE 1=1\r\n",
        "                AND SalesProductGroupName != \"Unknown\"\r\n",
        "    \"\"\"\r\n",
        "    data_df = spark.sql(product_query)\r\n",
        "    data_pdf = data_df.toPandas()\r\n",
        "\r\n",
        "    data_pdf['TicketCategory'] = data_pdf['ProductName'].map(TICKET_MAPPING).map(CATEGORY_MAPPING)\r\n",
        "    #data_pdf.dropna(subset=['TicketCategory'], inplace=True) # For those items not mapped\r\n",
        "\r\n",
        "    return data_pdf\r\n",
        "\r\n",
        "# Fetch the unique ticket types with their counts\r\n",
        "ticket_types_pdf = get_ticket_types()\r\n",
        "display(ticket_types_pdf)"
      ],
      "outputs": [
        {
          "output_type": "display_data",
          "data": {
            "application/vnd.livy.statement-meta+json": {
              "spark_pool": "dslsmall",
              "session_id": "462",
              "statement_id": 6,
              "statement_ids": [
                6
              ],
              "state": "finished",
              "livy_statement_state": "available",
              "queued_time": "2024-05-19T04:11:12.8203382Z",
              "session_start_time": null,
              "execution_start_time": "2024-05-19T04:12:30.8559626Z",
              "execution_finish_time": "2024-05-19T04:13:06.7106044Z",
              "spark_jobs": null,
              "parent_msg_id": "75fd4445-8c23-4388-9675-cc31df9cc6be"
            },
            "text/plain": "StatementMeta(dslsmall, 462, 6, Finished, Available)"
          },
          "metadata": {}
        },
        {
          "output_type": "stream",
          "name": "stderr",
          "text": [
            "/opt/spark/python/lib/pyspark.zip/pyspark/sql/pandas/conversion.py:604: FutureWarning: iteritems is deprecated and will be removed in a future version. Use .items instead.\n  [(c, t) for (_, c), t in zip(pdf_slice.iteritems(), arrow_types)]\n"
          ]
        },
        {
          "output_type": "display_data",
          "data": {
            "application/vnd.synapse.widget-view+json": {
              "widget_id": "451ea2dc-709e-417f-90c6-b5bfaa120a8c",
              "widget_type": "Synapse.DataFrame"
            },
            "text/plain": "SynapseWidget(Synapse.DataFrame, 451ea2dc-709e-417f-90c6-b5bfaa120a8c)"
          },
          "metadata": {}
        }
      ],
      "execution_count": 5,
      "metadata": {
        "jupyter": {
          "source_hidden": false,
          "outputs_hidden": false
        },
        "nteract": {
          "transient": {
            "deleting": false
          }
        },
        "collapsed": false
      }
    },
    {
      "cell_type": "markdown",
      "source": [
        "## 2. Data Preprocessing"
      ],
      "metadata": {
        "nteract": {
          "transient": {
            "deleting": false
          }
        }
      }
    },
    {
      "cell_type": "code",
      "source": [
        "def get_data(time_period):\r\n",
        "    \"\"\"\r\n",
        "    Fetches and prepares weekly profiles for each user over a specified time period.\r\n",
        "\r\n",
        "    Parameters:\r\n",
        "    - time_period: Tuple of start_date and end_date in the format \"YYYY-MM-DD HH:MM:SS\".\r\n",
        "\r\n",
        "    Returns:\r\n",
        "    - A Pandas DataFrame with the weekly profiles of journeys per user.\r\n",
        "    \"\"\"\r\n",
        "    data_pdf = fetch_data(time_period)\r\n",
        "    data_pdf = process_data(data_pdf)\r\n",
        "\r\n",
        "    return data_pdf\r\n",
        "\r\n",
        "def fetch_data(time_period):\r\n",
        "    start_date, end_date = time_period\r\n",
        "    query = f\"\"\"\r\n",
        "        SELECT \r\n",
        "            j.CardKey, \r\n",
        "            d.DayOfWeek, \r\n",
        "            FLOOR(j.origin_sfm / 3600) AS InHour, \r\n",
        "            p.ProductName\r\n",
        "        FROM `analysis_dm`.`travelpatternjourney` AS j\r\n",
        "        LEFT JOIN `analysis_dm`.`dimcalendardate` AS d \r\n",
        "            ON d.calendarDateKey = j.origin_CalendarDateKey\r\n",
        "        LEFT JOIN `analysis_dm`.`dimvalidationproduct` AS p \r\n",
        "            ON p.ValidationProductKey = j.ValidationProductKey\r\n",
        "        WHERE 1=1\r\n",
        "            AND d.FullDate BETWEEN '{start_date}' AND '{end_date}'\r\n",
        "    \"\"\"\r\n",
        "    data_df = spark.sql(query).na.drop()\r\n",
        "    data_pdf = data_df.toPandas()\r\n",
        "    data_pdf['DayOfWeek'] = data_pdf['DayOfWeek'].map(DAY_MAPPING)\r\n",
        "    return data_pdf\r\n",
        "\r\n",
        "def process_data(data_pdf):\r\n",
        "    # Map hour and day, then encode and group in fewer steps\r\n",
        "    data_pdf['Day_Hour'] = data_pdf['DayOfWeek'] + \"_\" + data_pdf['InHour'].map(HOUR_MAPPING)\r\n",
        "    data_pdf = pd.get_dummies(data_pdf, columns=['Day_Hour'], prefix=\"Time\", prefix_sep=\"_\")\r\n",
        "    data_pdf.drop(columns=[\"InHour\", \"DayOfWeek\"], inplace=True)\r\n",
        "\r\n",
        "    # Simplify tickets\r\n",
        "    data_pdf['TicketCategory'] = data_pdf['ProductName'].map(TICKET_MAPPING).map(CATEGORY_MAPPING)\r\n",
        "    missing_ticket_category = data_pdf[data_pdf['TicketCategory'].isnull()]\r\n",
        "\r\n",
        "    # Print ProductName entries that could not be mapped\r\n",
        "    #print(\"ProductNames not translated into TicketCategory:\")\r\n",
        "    #print(missing_ticket_category['ProductName'])\r\n",
        "\r\n",
        "    data_pdf.dropna(subset=['TicketCategory'], inplace=True) # For those items not mapped\r\n",
        "    data_pdf.drop(columns=[\"ProductName\"], inplace=True)\r\n",
        "\r\n",
        "    # Combine TicketType handling into the grouping operation\r\n",
        "    aggregated = data_pdf.groupby('CardKey').agg({\r\n",
        "        **{col: 'sum' for col in data_pdf.columns if col.startswith(\"Time_\")},\r\n",
        "        'TicketCategory': lambda x: pd.Series.mode(x)[0]  # Mode calculation\r\n",
        "    }).reset_index()\r\n",
        "\r\n",
        "    return aggregated"
      ],
      "outputs": [
        {
          "output_type": "display_data",
          "data": {
            "application/vnd.livy.statement-meta+json": {
              "spark_pool": "dslsmall",
              "session_id": "462",
              "statement_id": 7,
              "statement_ids": [
                7
              ],
              "state": "finished",
              "livy_statement_state": "available",
              "queued_time": "2024-05-19T04:11:14.9016339Z",
              "session_start_time": null,
              "execution_start_time": "2024-05-19T04:13:06.8946241Z",
              "execution_finish_time": "2024-05-19T04:13:07.0661633Z",
              "spark_jobs": null,
              "parent_msg_id": "1c400e97-30bc-4797-8278-bb7d83fe444d"
            },
            "text/plain": "StatementMeta(dslsmall, 462, 7, Finished, Available)"
          },
          "metadata": {}
        }
      ],
      "execution_count": 6,
      "metadata": {
        "jupyter": {
          "source_hidden": false,
          "outputs_hidden": false
        },
        "nteract": {
          "transient": {
            "deleting": false
          }
        }
      }
    },
    {
      "cell_type": "markdown",
      "source": [
        "### Fetch the data"
      ],
      "metadata": {
        "nteract": {
          "transient": {
            "deleting": false
          }
        }
      }
    },
    {
      "cell_type": "code",
      "source": [
        "# Representation of user based (Weekly Profiles Day_Time-of-Day)\r\n",
        "data_pdf = get_data(JULY_WEEK) #TIME_PERIODS[0]\r\n",
        "print(f\"{data_pdf.columns[:10]}...\") # Print first 10 columns"
      ],
      "outputs": [
        {
          "output_type": "display_data",
          "data": {
            "application/vnd.livy.statement-meta+json": {
              "spark_pool": "dslsmall",
              "session_id": "462",
              "statement_id": 51,
              "statement_ids": [
                51
              ],
              "state": "finished",
              "livy_statement_state": "available",
              "queued_time": "2024-05-19T04:53:19.5714987Z",
              "session_start_time": null,
              "execution_start_time": "2024-05-19T04:53:19.7457909Z",
              "execution_finish_time": "2024-05-19T04:55:29.7769626Z",
              "spark_jobs": null,
              "parent_msg_id": "8d86f970-7a3d-42e3-85c4-b9904851cda6"
            },
            "text/plain": "StatementMeta(dslsmall, 462, 51, Finished, Available)"
          },
          "metadata": {}
        },
        {
          "output_type": "stream",
          "name": "stdout",
          "text": [
            "Index(['CardKey', 'Time_Friday_Afternoon', 'Time_Friday_Day',\n       'Time_Friday_Evening', 'Time_Friday_Morning', 'Time_Friday_Night',\n       'Time_Monday_Afternoon', 'Time_Monday_Day', 'Time_Monday_Evening',\n       'Time_Monday_Morning'],\n      dtype='object')...\n"
          ]
        }
      ],
      "execution_count": 50,
      "metadata": {
        "jupyter": {
          "source_hidden": false,
          "outputs_hidden": false
        },
        "nteract": {
          "transient": {
            "deleting": false
          }
        }
      }
    },
    {
      "cell_type": "markdown",
      "source": [
        "### Visualize Data "
      ],
      "metadata": {
        "nteract": {
          "transient": {
            "deleting": false
          }
        }
      }
    },
    {
      "cell_type": "code",
      "source": [
        "# Show what our data currntly looks like\r\n",
        "print(f\"We have {len(data_pdf):,} users to cluster\")\r\n",
        "#print(data_pdf)\r\n",
        "print(f\"{data_pdf.iloc[0:5, 0:4]}...\")\r\n",
        "#print(data_pdf.loc[:5, \"TicketCategory\"])"
      ],
      "outputs": [
        {
          "output_type": "display_data",
          "data": {
            "application/vnd.livy.statement-meta+json": {
              "spark_pool": "dslsmall",
              "session_id": "462",
              "statement_id": 55,
              "statement_ids": [
                55
              ],
              "state": "finished",
              "livy_statement_state": "available",
              "queued_time": "2024-05-19T04:58:12.0728834Z",
              "session_start_time": null,
              "execution_start_time": "2024-05-19T04:58:12.2350092Z",
              "execution_finish_time": "2024-05-19T04:58:12.4169261Z",
              "spark_jobs": null,
              "parent_msg_id": "1d1be07c-2c57-4cac-887e-a9260417c703"
            },
            "text/plain": "StatementMeta(dslsmall, 462, 55, Finished, Available)"
          },
          "metadata": {}
        },
        {
          "output_type": "stream",
          "name": "stdout",
          "text": [
            "We have 737,429 users to cluster\n   CardKey  Time_Friday_Afternoon  Time_Friday_Day  Time_Friday_Evening\n0      127                      0                0                    0\n1      174                      0                0                    0\n2      293                      0                0                    0\n3      327                      0                0                    0\n4      335                      0                0                    0...\n"
          ]
        }
      ],
      "execution_count": 54,
      "metadata": {
        "jupyter": {
          "source_hidden": false,
          "outputs_hidden": false
        },
        "nteract": {
          "transient": {
            "deleting": false
          }
        }
      }
    },
    {
      "cell_type": "code",
      "source": [
        "# How many tickets do we have of each type?\r\n",
        "for ticket_category in TICKET_CATEGORIES:\r\n",
        "    category_count = len(data_pdf[data_pdf[\"TicketCategory\"] == ticket_category])\r\n",
        "    print(f\"{ticket_category} has {category_count:,} users \")"
      ],
      "outputs": [
        {
          "output_type": "display_data",
          "data": {
            "application/vnd.livy.statement-meta+json": {
              "spark_pool": "dslsmall",
              "session_id": "462",
              "statement_id": 52,
              "statement_ids": [
                52
              ],
              "state": "finished",
              "livy_statement_state": "available",
              "queued_time": "2024-05-19T04:54:03.7370488Z",
              "session_start_time": null,
              "execution_start_time": "2024-05-19T04:55:29.9608031Z",
              "execution_finish_time": "2024-05-19T04:55:30.5866806Z",
              "spark_jobs": null,
              "parent_msg_id": "f6bdf341-d7e5-4081-90dd-35f25f167cb4"
            },
            "text/plain": "StatementMeta(dslsmall, 462, 52, Finished, Available)"
          },
          "metadata": {}
        },
        {
          "output_type": "stream",
          "name": "stdout",
          "text": [
            "Adult has 202,691 users \nTourist has 37,563 users \nSingle has 497,175 users \n"
          ]
        }
      ],
      "execution_count": 51,
      "metadata": {
        "jupyter": {
          "source_hidden": false,
          "outputs_hidden": false
        },
        "nteract": {
          "transient": {
            "deleting": false
          }
        }
      }
    },
    {
      "cell_type": "markdown",
      "source": [
        "### Apply SMOTE and Split"
      ],
      "metadata": {
        "nteract": {
          "transient": {
            "deleting": false
          }
        }
      }
    },
    {
      "cell_type": "code",
      "source": [
        "# Separate the data based on the TicketCategory\r\n",
        "single_df = data_pdf[data_pdf['TicketCategory'] == 'Single']\r\n",
        "adult_df = data_pdf[data_pdf['TicketCategory'] == 'Adult']\r\n",
        "tourist_df = data_pdf[data_pdf['TicketCategory'] == 'Tourist']\r\n",
        "\r\n",
        "# Downsample each category\r\n",
        "single_downsampled = single_df.sample(frac=0.25, random_state=42)\r\n",
        "adult_downsampled = adult_df.sample(frac=0.50, random_state=42)\r\n",
        "tourist_downsampled = tourist_df.sample(frac=1.0, random_state=42)\r\n",
        "\r\n",
        "# Combine the downsampled data\r\n",
        "downsampled_data = pd.concat([single_downsampled, adult_downsampled, tourist_downsampled])\r\n",
        "\r\n",
        "# Collect tourist keys\r\n",
        "tourist_cards = tourist_df[\"CardKey\"]\r\n",
        "# print(tourist_cards)"
      ],
      "outputs": [
        {
          "output_type": "display_data",
          "data": {
            "application/vnd.livy.statement-meta+json": {
              "spark_pool": "dslsmall",
              "session_id": "462",
              "statement_id": 56,
              "statement_ids": [
                56
              ],
              "state": "finished",
              "livy_statement_state": "available",
              "queued_time": "2024-05-19T04:58:19.271948Z",
              "session_start_time": null,
              "execution_start_time": "2024-05-19T04:58:19.4525286Z",
              "execution_finish_time": "2024-05-19T04:58:20.0176891Z",
              "spark_jobs": null,
              "parent_msg_id": "d818a0b4-35db-479c-b3b9-549840b3dfe0"
            },
            "text/plain": "StatementMeta(dslsmall, 462, 56, Finished, Available)"
          },
          "metadata": {}
        }
      ],
      "execution_count": 55,
      "metadata": {
        "jupyter": {
          "source_hidden": false,
          "outputs_hidden": false
        },
        "nteract": {
          "transient": {
            "deleting": false
          }
        }
      }
    },
    {
      "cell_type": "code",
      "source": [
        "# Split into X and Y first\r\n",
        "X = downsampled_data.drop('TicketCategory', axis=1)\r\n",
        "y = downsampled_data['TicketCategory']\r\n",
        "\r\n",
        "# Split into 70/30 split\r\n",
        "X_train, X_test, y_train, y_test = train_test_split(X, Y, test_size=0.3, random_state=42)"
      ],
      "outputs": [
        {
          "output_type": "display_data",
          "data": {
            "application/vnd.livy.statement-meta+json": {
              "spark_pool": "dslsmall",
              "session_id": "462",
              "statement_id": 57,
              "statement_ids": [
                57
              ],
              "state": "finished",
              "livy_statement_state": "available",
              "queued_time": "2024-05-19T04:58:24.8236215Z",
              "session_start_time": null,
              "execution_start_time": "2024-05-19T04:58:25.0103677Z",
              "execution_finish_time": "2024-05-19T04:58:25.1815744Z",
              "spark_jobs": null,
              "parent_msg_id": "48e5ff4c-2bf0-425f-996d-9354a2682522"
            },
            "text/plain": "StatementMeta(dslsmall, 462, 57, Finished, Available)"
          },
          "metadata": {}
        }
      ],
      "execution_count": 56,
      "metadata": {
        "jupyter": {
          "source_hidden": false,
          "outputs_hidden": false
        },
        "nteract": {
          "transient": {
            "deleting": false
          }
        }
      }
    },
    {
      "cell_type": "code",
      "source": [
        "print(\"Training set distribution:\")\r\n",
        "print(y_train.value_counts())\r\n",
        "\r\n",
        "print(\"Test set distribution:\")\r\n",
        "print(y_test.value_counts())"
      ],
      "outputs": [
        {
          "output_type": "display_data",
          "data": {
            "application/vnd.livy.statement-meta+json": {
              "spark_pool": "dslsmall",
              "session_id": "462",
              "statement_id": 60,
              "statement_ids": [
                60
              ],
              "state": "finished",
              "livy_statement_state": "available",
              "queued_time": "2024-05-19T04:58:30.9263848Z",
              "session_start_time": null,
              "execution_start_time": "2024-05-19T04:58:31.1343748Z",
              "execution_finish_time": "2024-05-19T04:58:31.3081764Z",
              "spark_jobs": null,
              "parent_msg_id": "40a003a4-a48c-428d-94f4-26d795ad8d1c"
            },
            "text/plain": "StatementMeta(dslsmall, 462, 60, Finished, Available)"
          },
          "metadata": {}
        },
        {
          "output_type": "stream",
          "name": "stdout",
          "text": [
            "Training set distribution:\nSingle     87150\nAdult      70871\nTourist    26221\nName: TicketCategory, dtype: int64\nTest set distribution:\nSingle     37144\nAdult      30475\nTourist    11342\nName: TicketCategory, dtype: int64\n"
          ]
        }
      ],
      "execution_count": 59,
      "metadata": {
        "jupyter": {
          "source_hidden": false,
          "outputs_hidden": false
        },
        "nteract": {
          "transient": {
            "deleting": false
          }
        }
      }
    },
    {
      "cell_type": "markdown",
      "source": [
        "### Drop the CardKey"
      ],
      "metadata": {
        "nteract": {
          "transient": {
            "deleting": false
          }
        }
      }
    },
    {
      "cell_type": "code",
      "source": [
        "# Extract CardKey for later use\r\n",
        "card_keys_test = X_test['CardKey']\r\n",
        "\r\n",
        "# Drop CardKey from features for training and testing\r\n",
        "X_train = X_train.drop('CardKey', axis=1)\r\n",
        "X_test = X_test.drop('CardKey', axis=1)"
      ],
      "outputs": [
        {
          "output_type": "display_data",
          "data": {
            "application/vnd.livy.statement-meta+json": {
              "spark_pool": "dslsmall",
              "session_id": "462",
              "statement_id": 61,
              "statement_ids": [
                61
              ],
              "state": "finished",
              "livy_statement_state": "available",
              "queued_time": "2024-05-19T04:58:46.079336Z",
              "session_start_time": null,
              "execution_start_time": "2024-05-19T04:58:46.2611198Z",
              "execution_finish_time": "2024-05-19T04:58:46.4297381Z",
              "spark_jobs": null,
              "parent_msg_id": "d3bcd174-53b6-48c4-b943-ba5a4adf5859"
            },
            "text/plain": "StatementMeta(dslsmall, 462, 61, Finished, Available)"
          },
          "metadata": {}
        }
      ],
      "execution_count": 60,
      "metadata": {
        "jupyter": {
          "source_hidden": false,
          "outputs_hidden": false
        },
        "nteract": {
          "transient": {
            "deleting": false
          }
        }
      }
    },
    {
      "cell_type": "markdown",
      "source": [
        "## 3. Training Models and Evaluation"
      ],
      "metadata": {
        "nteract": {
          "transient": {
            "deleting": false
          }
        }
      }
    },
    {
      "cell_type": "markdown",
      "source": [
        "### Random Forests"
      ],
      "metadata": {
        "nteract": {
          "transient": {
            "deleting": false
          }
        }
      }
    },
    {
      "cell_type": "code",
      "source": [
        "# Initialize the Random Forest model\r\n",
        "rf_model = RandomForestClassifier(random_state=42, n_estimators=100) # Number of trees to use\r\n",
        "\r\n",
        "# Train the model on the training data\r\n",
        "rf_model.fit(X_train, y_train)\r\n",
        "\r\n",
        "# Make predictions on the test data\r\n",
        "y_pred = rf_model.predict(X_test)\r\n",
        "\r\n",
        "# Convert y_pred to a pandas Series with the same index as X_test\r\n",
        "y_pred = pd.Series(y_pred, index=X_test.index) # Make sure indexing is correct"
      ],
      "outputs": [
        {
          "output_type": "display_data",
          "data": {
            "application/vnd.livy.statement-meta+json": {
              "spark_pool": "dslsmall",
              "session_id": "462",
              "statement_id": 62,
              "statement_ids": [
                62
              ],
              "state": "finished",
              "livy_statement_state": "available",
              "queued_time": "2024-05-19T04:58:54.1418247Z",
              "session_start_time": null,
              "execution_start_time": "2024-05-19T04:58:54.3292219Z",
              "execution_finish_time": "2024-05-19T04:59:23.6254069Z",
              "spark_jobs": null,
              "parent_msg_id": "78542aeb-52a1-4637-bd2c-519a2de144ca"
            },
            "text/plain": "StatementMeta(dslsmall, 462, 62, Finished, Available)"
          },
          "metadata": {}
        }
      ],
      "execution_count": 61,
      "metadata": {
        "jupyter": {
          "source_hidden": false,
          "outputs_hidden": false
        },
        "nteract": {
          "transient": {
            "deleting": false
          }
        }
      }
    },
    {
      "cell_type": "markdown",
      "source": [
        "### Evaluation"
      ],
      "metadata": {
        "nteract": {
          "transient": {
            "deleting": false
          }
        }
      }
    },
    {
      "cell_type": "code",
      "source": [
        "# Evaluate the model\r\n",
        "accuracy = accuracy_score(y_test, y_pred)\r\n",
        "conf_matrix = confusion_matrix(y_test, y_pred)\r\n",
        "class_report = classification_report(y_test, y_pred)\r\n",
        "\r\n",
        "print(f\"Accuracy: {accuracy}\")\r\n",
        "print(\"Confusion Matrix:\")\r\n",
        "print(conf_matrix)\r\n",
        "print(\"Classification Report:\")\r\n",
        "print(class_report)\r\n",
        "f1 = f1_score(y_test, y_pred, average='macro')\r\n",
        "print(f\"Accuracy: {f1}\")"
      ],
      "outputs": [
        {
          "output_type": "display_data",
          "data": {
            "application/vnd.livy.statement-meta+json": {
              "spark_pool": "dslsmall",
              "session_id": "462",
              "statement_id": 63,
              "statement_ids": [
                63
              ],
              "state": "finished",
              "livy_statement_state": "available",
              "queued_time": "2024-05-19T04:59:19.0610304Z",
              "session_start_time": null,
              "execution_start_time": "2024-05-19T04:59:23.8025522Z",
              "execution_finish_time": "2024-05-19T04:59:26.6820419Z",
              "spark_jobs": null,
              "parent_msg_id": "c0d38727-92d3-452e-82b0-1e0e2c4ae3ac"
            },
            "text/plain": "StatementMeta(dslsmall, 462, 63, Finished, Available)"
          },
          "metadata": {}
        },
        {
          "output_type": "stream",
          "name": "stdout",
          "text": [
            "Accuracy: 0.7684933068223554\nConfusion Matrix:\n[[22927  6351  1197]\n [ 3891 31966  1287]\n [ 2176  3378  5788]]\nClassification Report:\n              precision    recall  f1-score   support\n\n       Adult       0.79      0.75      0.77     30475\n      Single       0.77      0.86      0.81     37144\n     Tourist       0.70      0.51      0.59     11342\n\n    accuracy                           0.77     78961\n   macro avg       0.75      0.71      0.72     78961\nweighted avg       0.77      0.77      0.76     78961\n\n"
          ]
        }
      ],
      "execution_count": 62,
      "metadata": {
        "jupyter": {
          "source_hidden": false,
          "outputs_hidden": false
        },
        "nteract": {
          "transient": {
            "deleting": false
          }
        }
      }
    },
    {
      "cell_type": "markdown",
      "source": [
        "## 4. Visualize those who were predicted poorly"
      ],
      "metadata": {
        "nteract": {
          "transient": {
            "deleting": false
          }
        }
      }
    },
    {
      "cell_type": "code",
      "source": [
        "# Identify incorrect predictions\r\n",
        "correct_indices = y_test[y_test == y_pred].index\r\n",
        "incorrect_indices = y_test[y_test != y_pred].index\r\n",
        "\r\n",
        "# Extract incorrect instances and their CardKeys\r\n",
        "incorrect_instances = X_test.loc[incorrect_indices]\r\n",
        "true_labels = y_test.loc[incorrect_indices]\r\n",
        "predicted_labels = y_pred.loc[incorrect_indices]\r\n",
        "card_keys_incorrect = card_keys_test.loc[incorrect_indices]\r\n",
        "\r\n",
        "# Combine incorrect instances with true labels, predicted labels, and CardKey\r\n",
        "incorrect_instances['TrueLabel'] = true_labels\r\n",
        "incorrect_instances['PredictedLabel'] = predicted_labels\r\n",
        "incorrect_instances['CardKey'] = card_keys_incorrect\r\n",
        "\r\n",
        "# Extract correct instances and their CardKeys\r\n",
        "correct_instances = X_test.loc[correct_indices]\r\n",
        "true_labels = y_test.loc[correct_indices]\r\n",
        "predicted_labels = y_pred.loc[correct_indices]\r\n",
        "card_keys_correct = card_keys_test.loc[correct_indices]\r\n",
        "\r\n",
        "# Combine incorrect instances with true labels, predicted labels, and CardKey\r\n",
        "correct_instances['TrueLabel'] = true_labels\r\n",
        "correct_instances['PredictedLabel'] = predicted_labels\r\n",
        "correct_instances['CardKey'] = card_keys_correct\r\n",
        "\r\n",
        "# Print the combined DataFrame\r\n",
        "print(\"Incorrect instances with true and predicted labels and CardKey:\")\r\n",
        "print(card_keys_incorrect) #incorrect_instances"
      ],
      "outputs": [
        {
          "output_type": "display_data",
          "data": {
            "application/vnd.livy.statement-meta+json": {
              "spark_pool": "dslsmall",
              "session_id": "462",
              "statement_id": 64,
              "statement_ids": [
                64
              ],
              "state": "finished",
              "livy_statement_state": "available",
              "queued_time": "2024-05-19T04:59:45.1896126Z",
              "session_start_time": null,
              "execution_start_time": "2024-05-19T04:59:45.366333Z",
              "execution_finish_time": "2024-05-19T04:59:45.5280421Z",
              "spark_jobs": null,
              "parent_msg_id": "37750ea5-e53b-4d97-8211-3e14dbcd7b0b"
            },
            "text/plain": "StatementMeta(dslsmall, 462, 64, Finished, Available)"
          },
          "metadata": {}
        },
        {
          "output_type": "stream",
          "name": "stdout",
          "text": [
            "Incorrect instances with true and predicted labels and CardKey:\n633993    69548211\n373287    61102712\n204799    57033950\n422041    62521826\n333967    59815544\n            ...   \n180072    56345965\n563623    66732284\n721567    70046023\n648213    69580592\n714310    70014840\nName: CardKey, Length: 18280, dtype: int64\n"
          ]
        }
      ],
      "execution_count": 63,
      "metadata": {
        "jupyter": {
          "source_hidden": false,
          "outputs_hidden": false
        },
        "nteract": {
          "transient": {
            "deleting": false
          }
        }
      }
    },
    {
      "cell_type": "markdown",
      "source": [
        "### Query for data"
      ],
      "metadata": {
        "nteract": {
          "transient": {
            "deleting": false
          }
        }
      }
    },
    {
      "cell_type": "code",
      "source": [
        "def get_trip_data(time_period):\r\n",
        "    start_date, end_date = time_period\r\n",
        "    query = f\"\"\"\r\n",
        "        SELECT \r\n",
        "            t.CardKey, \r\n",
        "            t.tapin_CalendarDateKey,\r\n",
        "            t.LineNumber,\r\n",
        "            t.WaitingTimeSeconds,\r\n",
        "            FLOOR(t.InVehicleTimeSeconds / 60) AS InVehicleTimeMinutes,\r\n",
        "            l.DepartureLineTransportMode AS LineTransportMode\r\n",
        "        FROM `analysis_dm`.`travelpatterntrips` AS t\r\n",
        "        LEFT JOIN `analysis_dm`.`dimcalendardate` AS d \r\n",
        "            ON d.calendarDateKey = t.tapin_CalendarDateKey\r\n",
        "        LEFT JOIN `analysis_dm`.`dimdeparture` AS l\r\n",
        "            ON l.DepartureKey = t.DepartureKey\r\n",
        "        WHERE 1=1\r\n",
        "            AND d.FullDate BETWEEN '{start_date}' AND '{end_date}'\r\n",
        "    \"\"\"\r\n",
        "    data_df = spark.sql(query).na.drop()\r\n",
        "    data_pdf = data_df.toPandas()\r\n",
        "    return data_pdf\r\n",
        "\r\n",
        "def get_journey_data(time_period):\r\n",
        "    start_date, end_date = time_period\r\n",
        "    query = f\"\"\"\r\n",
        "        SELECT \r\n",
        "            j.CardKey, \r\n",
        "            FLOOR(j.travel_time / 60) AS TravelTimeMinutes,\r\n",
        "            FLOOR(j.journey_sum_trip_distance / 1000) AS JourneyDistanceKm,\r\n",
        "            FLOOR(j.journey_spherical_distance / 1000) AS JourneySphericalDistanceKm,\r\n",
        "            FLOOR(j.origin_sfm / 3600) AS FirstTapInHour,\r\n",
        "            j.journey_sum_trip_completed,\r\n",
        "            j.n_trips,\r\n",
        "            d.DayOfWeek\r\n",
        "        FROM `analysis_dm`.`travelpatternjourney` AS j\r\n",
        "        LEFT JOIN `analysis_dm`.`dimcalendardate` AS d \r\n",
        "            ON d.calendarDateKey = j.origin_CalendarDateKey\r\n",
        "        WHERE 1=1\r\n",
        "            AND d.FullDate BETWEEN '{start_date}' AND '{end_date}'\r\n",
        "    \"\"\"\r\n",
        "    data_df = spark.sql(query).na.drop()\r\n",
        "    data_pdf = data_df.toPandas()\r\n",
        "    data_pdf['DayOfWeek'] = data_pdf['DayOfWeek'].map(DAY_MAPPING)\r\n",
        "    return data_pdf"
      ],
      "outputs": [
        {
          "output_type": "display_data",
          "data": {
            "application/vnd.livy.statement-meta+json": {
              "spark_pool": "dslsmall",
              "session_id": "462",
              "statement_id": 65,
              "statement_ids": [
                65
              ],
              "state": "finished",
              "livy_statement_state": "available",
              "queued_time": "2024-05-19T04:59:55.0279291Z",
              "session_start_time": null,
              "execution_start_time": "2024-05-19T04:59:55.2108631Z",
              "execution_finish_time": "2024-05-19T04:59:55.4022063Z",
              "spark_jobs": null,
              "parent_msg_id": "7f6ee75c-7ecc-472b-a616-e48f07c39fe0"
            },
            "text/plain": "StatementMeta(dslsmall, 462, 65, Finished, Available)"
          },
          "metadata": {}
        }
      ],
      "execution_count": 64,
      "metadata": {
        "jupyter": {
          "source_hidden": false,
          "outputs_hidden": false
        },
        "nteract": {
          "transient": {
            "deleting": false
          }
        }
      }
    },
    {
      "cell_type": "code",
      "source": [
        "# query all data during our period...\r\n",
        "full_trip_pdf = get_trip_data(JULY_WEEK)\r\n",
        "full_journey_pdf = get_journey_data(JULY_WEEK)"
      ],
      "outputs": [
        {
          "output_type": "display_data",
          "data": {
            "application/vnd.livy.statement-meta+json": {
              "spark_pool": "dslsmall",
              "session_id": "462",
              "statement_id": 66,
              "statement_ids": [
                66
              ],
              "state": "finished",
              "livy_statement_state": "available",
              "queued_time": "2024-05-19T05:00:01.2829904Z",
              "session_start_time": null,
              "execution_start_time": "2024-05-19T05:00:01.465831Z",
              "execution_finish_time": "2024-05-19T05:00:31.570182Z",
              "spark_jobs": null,
              "parent_msg_id": "c3fcb151-8693-461d-9fec-3d32411a7eaf"
            },
            "text/plain": "StatementMeta(dslsmall, 462, 66, Finished, Available)"
          },
          "metadata": {}
        }
      ],
      "execution_count": 65,
      "metadata": {
        "jupyter": {
          "source_hidden": false,
          "outputs_hidden": false
        },
        "nteract": {
          "transient": {
            "deleting": false
          }
        }
      }
    },
    {
      "cell_type": "code",
      "source": [
        "# Ensure that CardKey indices used for mapping are unique\r\n",
        "incorrect_instances = incorrect_instances.drop_duplicates(subset=['CardKey'])\r\n",
        "correct_instances = correct_instances.drop_duplicates(subset=['CardKey'])\r\n",
        "\r\n",
        "# Merge labels with the original trip and journey data based on CardKey\r\n",
        "full_trip_pdf['TrueLabel'] = full_trip_pdf['CardKey'].map(incorrect_instances.set_index('CardKey')['TrueLabel']).fillna(\r\n",
        "    full_trip_pdf['CardKey'].map(correct_instances.set_index('CardKey')['TrueLabel']))\r\n",
        "\r\n",
        "full_journey_pdf['TrueLabel'] = full_journey_pdf['CardKey'].map(incorrect_instances.set_index('CardKey')['TrueLabel']).fillna(\r\n",
        "    full_journey_pdf['CardKey'].map(correct_instances.set_index('CardKey')['TrueLabel']))"
      ],
      "outputs": [
        {
          "output_type": "display_data",
          "data": {
            "application/vnd.livy.statement-meta+json": {
              "spark_pool": "dslsmall",
              "session_id": "462",
              "statement_id": 67,
              "statement_ids": [
                67
              ],
              "state": "finished",
              "livy_statement_state": "available",
              "queued_time": "2024-05-19T05:00:04.1194058Z",
              "session_start_time": null,
              "execution_start_time": "2024-05-19T05:00:31.7562598Z",
              "execution_finish_time": "2024-05-19T05:00:32.8650692Z",
              "spark_jobs": null,
              "parent_msg_id": "97b2b99c-9193-457f-9f85-3b9118377e35"
            },
            "text/plain": "StatementMeta(dslsmall, 462, 67, Finished, Available)"
          },
          "metadata": {}
        }
      ],
      "execution_count": 66,
      "metadata": {
        "jupyter": {
          "source_hidden": false,
          "outputs_hidden": false
        },
        "nteract": {
          "transient": {
            "deleting": false
          }
        }
      }
    },
    {
      "cell_type": "code",
      "source": [
        "# Filter to include only \"Adult\" true labels\r\n",
        "label = \"Adult\"\r\n",
        "\r\n",
        "trip_pdf = full_trip_pdf[full_trip_pdf['TrueLabel'] == label]\r\n",
        "journey_pdf = full_journey_pdf[full_journey_pdf['TrueLabel'] == label]"
      ],
      "outputs": [
        {
          "output_type": "display_data",
          "data": {
            "application/vnd.livy.statement-meta+json": {
              "spark_pool": "dslsmall",
              "session_id": "462",
              "statement_id": 74,
              "statement_ids": [
                74
              ],
              "state": "finished",
              "livy_statement_state": "available",
              "queued_time": "2024-05-19T05:01:40.3179804Z",
              "session_start_time": null,
              "execution_start_time": "2024-05-19T05:01:40.4984474Z",
              "execution_finish_time": "2024-05-19T05:01:41.0926695Z",
              "spark_jobs": null,
              "parent_msg_id": "2757e640-e20b-4553-a842-2bc5f0e36425"
            },
            "text/plain": "StatementMeta(dslsmall, 462, 74, Finished, Available)"
          },
          "metadata": {}
        }
      ],
      "execution_count": 73,
      "metadata": {
        "jupyter": {
          "source_hidden": false,
          "outputs_hidden": false
        },
        "nteract": {
          "transient": {
            "deleting": false
          }
        }
      }
    },
    {
      "cell_type": "code",
      "source": [
        "# Collect only users who were wrong\r\n",
        "incorrect_trip_pdf = trip_pdf[trip_pdf[\"CardKey\"].isin(incorrect_instances['CardKey'])]\r\n",
        "incorrect_journey_pdf = journey_pdf[journey_pdf[\"CardKey\"].isin(incorrect_instances['CardKey'])]\r\n",
        "trips_incorrect = incorrect_trip_pdf.shape[0]\r\n",
        "journeys_incorrect = incorrect_journey_pdf.shape[0]\r\n",
        "\r\n",
        "# Collect only users who were right\r\n",
        "correct_trip_pdf = trip_pdf[trip_pdf[\"CardKey\"].isin(correct_instances['CardKey'])]\r\n",
        "correct_journey_pdf = journey_pdf[journey_pdf[\"CardKey\"].isin(correct_instances['CardKey'])]\r\n",
        "trips_correct = correct_trip_pdf.shape[0]\r\n",
        "journeys_correct = correct_journey_pdf.shape[0]"
      ],
      "outputs": [
        {
          "output_type": "display_data",
          "data": {
            "application/vnd.livy.statement-meta+json": {
              "spark_pool": "dslsmall",
              "session_id": "462",
              "statement_id": 75,
              "statement_ids": [
                75
              ],
              "state": "finished",
              "livy_statement_state": "available",
              "queued_time": "2024-05-19T05:01:41.2044843Z",
              "session_start_time": null,
              "execution_start_time": "2024-05-19T05:01:41.4123135Z",
              "execution_finish_time": "2024-05-19T05:01:41.5757791Z",
              "spark_jobs": null,
              "parent_msg_id": "d276a4a6-1e5b-41cd-9bdc-4008114d4cd6"
            },
            "text/plain": "StatementMeta(dslsmall, 462, 75, Finished, Available)"
          },
          "metadata": {}
        }
      ],
      "execution_count": 74,
      "metadata": {
        "jupyter": {
          "source_hidden": false,
          "outputs_hidden": false
        },
        "nteract": {
          "transient": {
            "deleting": false
          }
        }
      }
    },
    {
      "cell_type": "code",
      "source": [
        "n_days = 7 # Time period dependant, first and last date\r\n",
        "total_unique_cards = trip_pdf[\"CardKey\"].nunique()\r\n",
        "total_unique_cards_journeys = journey_pdf[\"CardKey\"].nunique()\r\n",
        "\r\n",
        "unique_cards_trips_incorrect = incorrect_trip_pdf[\"CardKey\"].nunique()\r\n",
        "unique_cards_journeys_incorrect = incorrect_journey_pdf[\"CardKey\"].nunique()\r\n",
        "unique_cards_trips_correct = correct_trip_pdf[\"CardKey\"].nunique()\r\n",
        "unique_cards_journeys_correct = correct_journey_pdf[\"CardKey\"].nunique()\r\n",
        "\r\n",
        "trips_per_card_incorrect = \"{:.1f}\".format(trips_incorrect / unique_cards_trips_incorrect / n_days)\r\n",
        "journeys_per_card_incorrect = \"{:.1f}\".format(journeys_incorrect / unique_cards_journeys_incorrect / n_days)\r\n",
        "trips_per_card_correct = \"{:.1f}\".format(trips_correct / unique_cards_trips_correct / n_days)\r\n",
        "journeys_per_card_correct = \"{:.1f}\".format(journeys_correct / unique_cards_journeys_correct / n_days)\r\n",
        "\r\n",
        "mean_travel_time_minutes_incorrect = incorrect_journey_pdf.loc[(incorrect_journey_pdf['TravelTimeMinutes'] > 0)]['TravelTimeMinutes'].mean()\r\n",
        "mean_journey_distance_km_incorrect = incorrect_journey_pdf.loc[(incorrect_journey_pdf['JourneyDistanceKm'] > 0)]['JourneyDistanceKm'].mean()\r\n",
        "mean_changes_incorrect = \"{:.2f}\".format(incorrect_journey_pdf['n_trips'].mean() - 1)\r\n",
        "\r\n",
        "mean_travel_time_minutes_correct = correct_journey_pdf.loc[(correct_journey_pdf['TravelTimeMinutes'] > 0)]['TravelTimeMinutes'].mean()\r\n",
        "mean_journey_distance_km_correct = correct_journey_pdf.loc[(correct_journey_pdf['JourneyDistanceKm'] > 0)]['JourneyDistanceKm'].mean()\r\n",
        "mean_changes_correct = \"{:.2f}\".format(correct_journey_pdf['n_trips'].mean() - 1)\r\n",
        "\r\n",
        "trips_correct = correct_trip_pdf[\"CardKey\"].count()\r\n",
        "journeys_correct = correct_journey_pdf[\"CardKey\"].count()\r\n",
        "\r\n",
        "# Create subplots with two rows\r\n",
        "fig, axes = plt.subplots(nrows=2, ncols=6, figsize=(30, 10))\r\n",
        "fig.suptitle('User Details: Incorrect vs Correct Classifications', fontsize=16)\r\n",
        "\r\n",
        "# Define function to plot pie chart\r\n",
        "def plot_pie(ax, correct, incorrect, title):\r\n",
        "    ax.pie([incorrect, correct], labels=['Incorrect', 'Correct'], autopct='%.0f%%', colors=['red', 'green'], wedgeprops={\"edgecolor\": \"black\", 'linewidth': 1, 'antialiased': True})\r\n",
        "    ax.set_ylabel(title, fontsize=12)\r\n",
        "\r\n",
        "# Number of unique cards\r\n",
        "plot_pie(axes[0, 0], unique_cards_trips_correct, unique_cards_trips_incorrect, 'Segment: Incorrect')\r\n",
        "plot_pie(axes[1, 0], unique_cards_trips_correct, unique_cards_trips_incorrect, 'Segment: Correct')\r\n",
        "\r\n",
        "# Trips per day\r\n",
        "def plot_trips_per_day(ax, df, title, color):\r\n",
        "    df.groupby('DayOfWeek').count().transform(lambda x: x / df['CardKey'].nunique()).reindex(['Monday', 'Tuesday', 'Wednesday', 'Thursday', 'Friday', 'Saturday', 'Sunday']).plot(kind='bar', y='CardKey', legend=None, color=color, ax=ax, rot=90)\r\n",
        "    ax.set_title(title)\r\n",
        "\r\n",
        "plot_trips_per_day(axes[0, 1], incorrect_journey_pdf, 'Trips per Day - Incorrect', 'red')\r\n",
        "plot_trips_per_day(axes[1, 1], correct_journey_pdf, 'Trips per Day - Correct', 'green')\r\n",
        "\r\n",
        "# Trips per hour\r\n",
        "def plot_trips_per_hour(ax, df, title, color):\r\n",
        "    df.groupby(['FirstTapInHour']).count().transform(lambda x: x / x.sum()).plot(kind='bar', y='CardKey', legend=None, color=color, ax=ax)\r\n",
        "    ax.set_title(title)\r\n",
        "\r\n",
        "plot_trips_per_hour(axes[0, 2], incorrect_journey_pdf, 'Trips per Hour - Incorrect', 'red')\r\n",
        "plot_trips_per_hour(axes[1, 2], correct_journey_pdf, 'Trips per Hour - Correct', 'green')\r\n",
        "\r\n",
        "# Mode of Transportation\r\n",
        "def plot_transport_mode(ax, df, title, color):\r\n",
        "    df.groupby(['LineTransportMode']).count().transform(lambda x: x / x.sum()).reindex(['TRAIN', 'METRO', 'BUS', 'SHIP', 'TRAM', 'Okänd']).plot(kind='bar', y='CardKey', legend=None, color=color, ax=ax, rot=90)\r\n",
        "    ax.set_title(title)\r\n",
        "\r\n",
        "plot_transport_mode(axes[0, 3], incorrect_trip_pdf, 'Transport Mode - Incorrect', 'red')\r\n",
        "plot_transport_mode(axes[1, 3], correct_trip_pdf, 'Transport Mode - Correct', 'green')\r\n",
        "\r\n",
        "# Distance travelled\r\n",
        "def plot_distance_travelled(ax, df, title, mean_distance, color):\r\n",
        "    df.loc[(df['journey_sum_trip_completed'] == True)].hist(column='JourneyDistanceKm', bins=range(1, 30, 1), range=[1, 30], legend=None, color=color, ax=ax)\r\n",
        "    ax.axvline(mean_distance, color=color, linestyle='--', linewidth=1)\r\n",
        "    ax.set_title(title)\r\n",
        "\r\n",
        "plot_distance_travelled(axes[0, 4], incorrect_journey_pdf, 'Distance Travelled - Incorrect', mean_journey_distance_km_incorrect, 'red')\r\n",
        "plot_distance_travelled(axes[1, 4], correct_journey_pdf, 'Distance Travelled - Correct', mean_journey_distance_km_correct, 'green')\r\n",
        "\r\n",
        "# Travel time\r\n",
        "def plot_travel_time(ax, df, title, mean_time, color):\r\n",
        "    df.loc[(df['journey_sum_trip_completed'] == True)].hist(column='TravelTimeMinutes', bins=range(1, 50, 1), range=[1, 50], legend=None, color=color, ax=ax)\r\n",
        "    ax.axvline(mean_time, color=color, linestyle='--', linewidth=1)\r\n",
        "    ax.set_title(title)\r\n",
        "\r\n",
        "plot_travel_time(axes[0, 5], incorrect_journey_pdf, 'Travel Time - Incorrect', mean_travel_time_minutes_incorrect, 'red')\r\n",
        "plot_travel_time(axes[1, 5], correct_journey_pdf, 'Travel Time - Correct', mean_travel_time_minutes_correct, 'green')\r\n",
        "\r\n",
        "plt.subplots_adjust(left=0.1, bottom=0.1, right=0.9, top=0.9, wspace=0.2, hspace=0.3)\r\n",
        "plt.show()\r\n"
      ],
      "outputs": [
        {
          "output_type": "display_data",
          "data": {
            "application/vnd.livy.statement-meta+json": {
              "spark_pool": "dslsmall",
              "session_id": "462",
              "statement_id": 76,
              "statement_ids": [
                76
              ],
              "state": "finished",
              "livy_statement_state": "available",
              "queued_time": "2024-05-19T05:01:42.4245192Z",
              "session_start_time": null,
              "execution_start_time": "2024-05-19T05:01:42.5791289Z",
              "execution_finish_time": "2024-05-19T05:01:45.5569878Z",
              "spark_jobs": null,
              "parent_msg_id": "555ddf86-2530-4550-9481-79a41bf182ad"
            },
            "text/plain": "StatementMeta(dslsmall, 462, 76, Finished, Available)"
          },
          "metadata": {}
        },
        {
          "output_type": "display_data",
          "data": {
            "text/plain": "<Figure size 3000x1000 with 12 Axes>",
            "image/png": "[encoded data removed]"
          },
          "metadata": {}
        }
      ],
      "execution_count": 75,
      "metadata": {
        "jupyter": {
          "source_hidden": false,
          "outputs_hidden": false
        },
        "nteract": {
          "transient": {
            "deleting": false
          }
        }
      }
    },
    {
      "cell_type": "markdown",
      "source": [
        "### Travel Behavior of Groups"
      ],
      "metadata": {
        "nteract": {
          "transient": {
            "deleting": false
          }
        }
      }
    },
    {
      "cell_type": "code",
      "source": [
        "# Frequency of \"Tourist cards being bought?\"\r\n",
        "def get_product_data(time_period):\r\n",
        "    start_date, end_date = time_period\r\n",
        "    query = f\"\"\"\r\n",
        "        SELECT \r\n",
        "            j.CardKey, \r\n",
        "            d.FullDate,\r\n",
        "            p.ProductName\r\n",
        "        FROM `analysis_dm`.`travelpatternjourney` AS j\r\n",
        "        LEFT JOIN `analysis_dm`.`dimcalendardate` AS d \r\n",
        "            ON d.calendarDateKey = j.origin_CalendarDateKey\r\n",
        "        LEFT JOIN `analysis_dm`.`dimvalidationproduct` AS p \r\n",
        "            ON p.ValidationProductKey = j.ValidationProductKey\r\n",
        "        WHERE 1=1\r\n",
        "            AND d.FullDate BETWEEN '{start_date}' AND '{end_date}'\r\n",
        "    \"\"\"\r\n",
        "    data_df = spark.sql(query).na.drop()\r\n",
        "    return data_df.toPandas()\r\n",
        "\r\n",
        "data_pdf = get_product_data(JULY_MONTHS)"
      ],
      "outputs": [
        {
          "output_type": "display_data",
          "data": {
            "application/vnd.livy.statement-meta+json": {
              "spark_pool": "dslsmall",
              "session_id": "462",
              "statement_id": 77,
              "statement_ids": [
                77
              ],
              "state": "finished",
              "livy_statement_state": "available",
              "queued_time": "2024-05-19T05:02:11.6322778Z",
              "session_start_time": null,
              "execution_start_time": "2024-05-19T05:02:11.7908011Z",
              "execution_finish_time": "2024-05-19T05:02:37.0991482Z",
              "spark_jobs": null,
              "parent_msg_id": "6fbed98d-fb31-4aa8-98ab-8f627f318f9c"
            },
            "text/plain": "StatementMeta(dslsmall, 462, 77, Finished, Available)"
          },
          "metadata": {}
        }
      ],
      "execution_count": 76,
      "metadata": {
        "jupyter": {
          "source_hidden": false,
          "outputs_hidden": false
        },
        "nteract": {
          "transient": {
            "deleting": false
          }
        }
      }
    },
    {
      "cell_type": "code",
      "source": [
        "# Filter out only \"our\" tourists\r\n",
        "tourist_pdf = data_pdf[data_pdf[\"CardKey\"].isin(tourist_cards)]\r\n",
        "unique_tourists = tourist_pdf[\"CardKey\"].nunique()\r\n",
        "print(f\"We got {unique_tourists} tourists during these months\")\r\n",
        "\r\n",
        "# Remove duplicate rows based on CardKey and FullDate\r\n",
        "tourist_pdf = tourist_pdf.drop_duplicates(subset=['CardKey', 'FullDate'])\r\n",
        "\r\n",
        "# Extract users with multiple rows\r\n",
        "multiple_rows = tourist_pdf.groupby('CardKey').filter(lambda x: len(x) > 1)"
      ],
      "outputs": [
        {
          "output_type": "display_data",
          "data": {
            "application/vnd.livy.statement-meta+json": {
              "spark_pool": "dslsmall",
              "session_id": "462",
              "statement_id": 78,
              "statement_ids": [
                78
              ],
              "state": "finished",
              "livy_statement_state": "available",
              "queued_time": "2024-05-19T05:02:16.2120485Z",
              "session_start_time": null,
              "execution_start_time": "2024-05-19T05:02:37.2777617Z",
              "execution_finish_time": "2024-05-19T05:02:41.4018348Z",
              "spark_jobs": null,
              "parent_msg_id": "68d0e13d-2dd9-4f1f-997b-29c0afb77fb5"
            },
            "text/plain": "StatementMeta(dslsmall, 462, 78, Finished, Available)"
          },
          "metadata": {}
        },
        {
          "output_type": "stream",
          "name": "stdout",
          "text": [
            "We got 37563 tourists during these months\n"
          ]
        }
      ],
      "execution_count": 77,
      "metadata": {
        "jupyter": {
          "source_hidden": false,
          "outputs_hidden": false
        },
        "nteract": {
          "transient": {
            "deleting": false
          }
        }
      }
    },
    {
      "cell_type": "code",
      "source": [
        "# Ensure FullDate is in datetime format\r\n",
        "tourist_pdf['FullDate'] = pd.to_datetime(tourist_pdf['FullDate'])\r\n",
        "\r\n",
        "# Extract week number\r\n",
        "tourist_pdf['Week'] = tourist_pdf['FullDate'].dt.isocalendar().week\r\n",
        "\r\n",
        "# Extract users with records in at least two different weeks\r\n",
        "multiple_weeks = tourist_pdf.groupby('CardKey').filter(lambda x: x['Week'].nunique() > 1)\r\n",
        "\r\n",
        "print(\"\\nUsers with multiple rows from at least two different weeks:\")\r\n",
        "print(multiple_weeks)\r\n",
        "\r\n",
        "multiple_weeks = multiple_weeks.drop_duplicates(subset=['CardKey', 'ProductName'])\r\n",
        "\r\n",
        "unique_tourists_multiweek = multiple_weeks[\"CardKey\"].nunique()\r\n",
        "print(f\"We got {unique_tourists_multiweek} traveling multiple weeks\")\r\n",
        "product_count = multiple_weeks[\"ProductName\"].value_counts()\r\n",
        "print(product_count)"
      ],
      "outputs": [
        {
          "output_type": "display_data",
          "data": {
            "application/vnd.livy.statement-meta+json": {
              "spark_pool": "dslsmall",
              "session_id": "462",
              "statement_id": 79,
              "statement_ids": [
                79
              ],
              "state": "finished",
              "livy_statement_state": "available",
              "queued_time": "2024-05-19T05:02:18.20316Z",
              "session_start_time": null,
              "execution_start_time": "2024-05-19T05:02:41.6081102Z",
              "execution_finish_time": "2024-05-19T05:02:50.3553653Z",
              "spark_jobs": null,
              "parent_msg_id": "df06f35f-9606-4153-81e1-c05bc08100fa"
            },
            "text/plain": "StatementMeta(dslsmall, 462, 79, Finished, Available)"
          },
          "metadata": {}
        },
        {
          "output_type": "stream",
          "name": "stdout",
          "text": [
            "\nUsers with multiple rows from at least two different weeks:\n            CardKey   FullDate ProductName  Week\n9          57037854 2023-05-10      VUX30D    19\n562        61480878 2023-05-10      VUX30D    19\n676        63689591 2023-05-10      VUX30D    19\n677        63689615 2023-05-10      VUX24H    19\n747        63693476 2023-05-10      VUX30D    19\n...             ...        ...         ...   ...\n141761017  69984875 2023-07-16       RAB7D    28\n141761020  69985123 2023-07-16      VUX72H    28\n141761022  69985130 2023-07-16       RAB7D    28\n141761025  69985157 2023-07-16       RAB7D    28\n141761032  69985288 2023-07-16       RAB7D    28\n\n[452203 rows x 4 columns]\nWe got 23572 traveling multiple weeks\nVUX7D        9934\nVUX72H       5533\nVUX          5237\nRAB7D        4392\nVUX24H       4107\nVUX30D       3889\nRAB          3030\nRAB72H       2409\nRAB24H       1888\nRAB30D       1591\nVUX90D        139\nRAB90D        103\nSKOLVT         69\nSKOLHT         58\nWTAX3VUX       57\nVSLUL125       49\nVUXP           33\nFRIVT          32\nWTAX3RAB       28\nUSLUL125       22\nVP             21\nFRIHT          20\nWTAX2VUX       17\nSKOL120D       15\nVUX365D        15\nWTAX4VUX       13\nFRI120D        11\nSOMMAR23       10\nVSLUL30D        8\nWTAX1VUX        8\nWTAX2RAB        8\nRAB365D         7\nWTAX1RAB        7\nWTAX6VUX        7\nRABP            6\nVUX30DP         5\nWVUX5D          5\nWTAX5RAB        5\nWTAX5VUX        5\nSKOL90D         4\nWTAX4RAB        4\nUSLUL30D        4\nVSLUL25         3\nWTAX6RAB        3\nWVUX30D         2\nFRI90D          2\nWRAB30D         2\nBad Value       1\nSKOLGRP1D       1\nName: ProductName, dtype: int64\n"
          ]
        }
      ],
      "execution_count": 78,
      "metadata": {
        "jupyter": {
          "source_hidden": false,
          "outputs_hidden": false
        },
        "nteract": {
          "transient": {
            "deleting": false
          }
        }
      }
    },
    {
      "cell_type": "code",
      "source": [
        "# Show frequency and behavior\r\n",
        "# Collect all users with multiple purchases"
      ],
      "outputs": [],
      "execution_count": null,
      "metadata": {
        "jupyter": {
          "source_hidden": false,
          "outputs_hidden": false
        },
        "nteract": {
          "transient": {
            "deleting": false
          }
        }
      }
    },
    {
      "cell_type": "code",
      "source": [
        "# Show the stations that the users travelled mostly from and to"
      ],
      "outputs": [],
      "execution_count": null,
      "metadata": {
        "jupyter": {
          "source_hidden": false,
          "outputs_hidden": false
        },
        "nteract": {
          "transient": {
            "deleting": false
          }
        }
      }
    }
  ],
  "metadata": {
    "language_info": {
      "name": "python"
    },
    "kernelspec": {
      "name": "synapse_pyspark",
      "language": "Python",
      "display_name": "Synapse PySpark"
    },
    "kernel_info": {
      "name": "synapse_pyspark"
    },
    "description": null,
    "save_output": true,
    "synapse_widget": {
      "version": "0.1",
      "state": {
        "451ea2dc-709e-417f-90c6-b5bfaa120a8c": {
          "type": "Synapse.DataFrame",
          "sync_state": {
            "table": {
              "rows": [
                {
                  "0": "Bad Value",
                  "1": "Bad Value"
                },
                {
                  "0": "Not Applicable",
                  "1": "Not Applicable"
                },
                {
                  "0": "zz30-dagarsbiljett",
                  "1": "30-dagarsbiljett"
                },
                {
                  "0": "zz30-dagarsbiljett Red.",
                  "1": "30-dagarsbiljett"
                },
                {
                  "0": "30-dagar vuxen",
                  "1": "30-dagarsbiljett",
                  "2": "Adult"
                },
                {
                  "0": "30-dagar rabatterad",
                  "1": "30-dagarsbiljett",
                  "2": "Adult"
                },
                {
                  "0": "30-dagar vuxen ftg",
                  "1": "30-dagarsbiljett",
                  "2": "Adult"
                },
                {
                  "0": "30-dagar rabatterad ftg",
                  "1": "30-dagarsbiljett",
                  "2": "Adult"
                },
                {
                  "0": "zz30-dagarsbiljett Bålsta Helt",
                  "1": "30-dagarsbiljett"
                },
                {
                  "0": "zz30-dagarsbiljett Bålsta Red",
                  "1": "30-dagarsbiljett"
                },
                {
                  "0": "zz30-dagarsbiljett Bålsta Ftg Helt",
                  "1": "30-dagarsbiljett"
                },
                {
                  "0": "zz30-dagarsbiljett Bålsta Ftg Red",
                  "1": "30-dagarsbiljett"
                },
                {
                  "0": "30-dagar Arlanda vuxen",
                  "1": "30-dagarsbiljett",
                  "2": "Adult"
                },
                {
                  "0": "30-dagar Arlanda rabatterad",
                  "1": "30-dagarsbiljett",
                  "2": "Adult"
                },
                {
                  "0": "zz30-dagarsbiljett Norrtälje Helt",
                  "1": "30-dagarsbiljett"
                },
                {
                  "0": "zz30-dagarsbiljett Norrtälje Red",
                  "1": "30-dagarsbiljett"
                },
                {
                  "0": "zz30-dagarsbiljett Södertälje Helt",
                  "1": "30-dagarsbiljett"
                },
                {
                  "0": "zz30-dagarsbiljett Södertälje Red",
                  "1": "30-dagarsbiljett"
                },
                {
                  "0": "30-dagar UL/SL vuxen",
                  "1": "30-dagarsbiljett",
                  "2": "Adult"
                },
                {
                  "0": "zzUL/SL 30 - hela UL SL C",
                  "1": "30-dagarsbiljett"
                },
                {
                  "0": "zzUL/SL 30 - UL 2 SL län vuxen",
                  "1": "30-dagarsbiljett"
                },
                {
                  "0": "zzUL/SL 30 - UL 1 SL C",
                  "1": "30-dagarsbiljett"
                },
                {
                  "0": "zzUL/SL 30 - UL 2 SL C",
                  "1": "30-dagarsbiljett"
                },
                {
                  "0": "zzSäsongsbiljett Sept-Dec Helt",
                  "1": "Lång periodbiljett"
                },
                {
                  "0": "zzSäsongsbiljett Sept-Dec Red",
                  "1": "Lång periodbiljett"
                },
                {
                  "0": "zzSäsongsbiljett Sept-Dec Ftg Helt",
                  "1": "Lång periodbiljett"
                },
                {
                  "0": "zzSäsongsbiljett Sept-Dec Ftg Red",
                  "1": "Lång periodbiljett"
                },
                {
                  "0": "zzSäsongsbiljett Jan-Apr Helt",
                  "1": "Lång periodbiljett"
                },
                {
                  "0": "zzSäsongsbiljett Jan-Apr Red",
                  "1": "Lång periodbiljett"
                },
                {
                  "0": "zzSäsongsbiljett Jan-Apr Ftg Helt",
                  "1": "Lång periodbiljett"
                },
                {
                  "0": "zzSäsongsbiljett Jan-Apr Ftg Red",
                  "1": "Lång periodbiljett"
                },
                {
                  "0": "zzSäsongsbiljett Maj-Aug Helt",
                  "1": "Lång periodbiljett"
                },
                {
                  "0": "zzSäsongsbiljett Maj-Aug Red",
                  "1": "Lång periodbiljett"
                },
                {
                  "0": "zzSäsongsbiljett Maj-Aug Ftg Helt",
                  "1": "Lång periodbiljett"
                },
                {
                  "0": "zzSäsongsbiljett Maj-Aug Ftg Red",
                  "1": "Lång periodbiljett"
                },
                {
                  "0": "90-dagar vuxen",
                  "1": "Lång periodbiljett",
                  "2": "Adult"
                },
                {
                  "0": "90-dagar rabatterad",
                  "1": "Lång periodbiljett",
                  "2": "Adult"
                },
                {
                  "0": "90-dagar vuxen ftg",
                  "1": "Lång periodbiljett",
                  "2": "Adult"
                },
                {
                  "0": "90-dagar rabatterad ftg",
                  "1": "Lång periodbiljett",
                  "2": "Adult"
                },
                {
                  "0": "zzSommarbiljett vuxen",
                  "1": "Lång periodbiljett"
                },
                {
                  "0": "zzSommarbiljett rabatterad",
                  "1": "Lång periodbiljett"
                },
                {
                  "0": "zzSommarbiljett vuxen ftg",
                  "1": "Lång periodbiljett"
                },
                {
                  "0": "zzSommarbiljett rabatterad ftg",
                  "1": "Lång periodbiljett"
                },
                {
                  "0": "zz90-dagarsbiljett",
                  "1": "Lång periodbiljett"
                },
                {
                  "0": "zz90-dagarsbiljett Red.",
                  "1": "Lång periodbiljett"
                },
                {
                  "0": "Årsbiljett Jan-Dec vuxen",
                  "1": "Lång periodbiljett",
                  "2": "Adult"
                },
                {
                  "0": "Årsbiljett Jan-Dec rabatterad",
                  "1": "Lång periodbiljett",
                  "2": "Adult"
                },
                {
                  "0": "zzÅrsbiljett Feb-Dec Helt",
                  "1": "Lång periodbiljett"
                },
                {
                  "0": "zzÅrsbiljett Feb-Dec Red",
                  "1": "Lång periodbiljett"
                },
                {
                  "0": "Årsbiljett vuxen ftg",
                  "1": "Lång periodbiljett",
                  "2": "Adult"
                },
                {
                  "0": "Årsbiljett rabatterad ftg",
                  "1": "Lång periodbiljett",
                  "2": "Adult"
                },
                {
                  "0": "Årsbiljett Resplus",
                  "1": "Övrigt",
                  "2": "Adult"
                },
                {
                  "0": "Årsbiljett vuxen",
                  "1": "Lång periodbiljett",
                  "2": "Adult"
                },
                {
                  "0": "Årsbiljett rabatterad",
                  "1": "Lång periodbiljett",
                  "2": "Adult"
                },
                {
                  "0": "zzSvensk kollektivtrafik Årsbiljett",
                  "1": "Övrigt"
                },
                {
                  "0": "7-dagar vuxen",
                  "1": "Kort periodbiljett",
                  "2": "Tourist"
                },
                {
                  "0": "7-dagar rabatterad",
                  "1": "Kort periodbiljett",
                  "2": "Tourist"
                },
                {
                  "0": "7-dagar vuxen ftg",
                  "1": "Kort periodbiljett",
                  "2": "Tourist"
                },
                {
                  "0": "7-dagar rabatterad ftg",
                  "1": "Kort periodbiljett",
                  "2": "Tourist"
                },
                {
                  "0": "24-timmar vuxen",
                  "1": "Kort periodbiljett",
                  "2": "Tourist"
                },
                {
                  "0": "24-timmar rabatterad",
                  "1": "Kort periodbiljett",
                  "2": "Tourist"
                },
                {
                  "0": "24-timmar vuxen ftg",
                  "1": "Kort periodbiljett",
                  "2": "Tourist"
                },
                {
                  "0": "72-timmar vuxen",
                  "1": "Kort periodbiljett",
                  "2": "Tourist"
                },
                {
                  "0": "72-timmar rabatterad",
                  "1": "Kort periodbiljett",
                  "2": "Tourist"
                },
                {
                  "0": "Skolbiljett vårtermin",
                  "1": "Ungdomsbiljett"
                },
                {
                  "0": "zzTerminsbiljett VT Bålsta",
                  "1": "Ungdomsbiljett"
                },
                {
                  "0": "Skolbiljett hösttermin",
                  "1": "Ungdomsbiljett"
                },
                {
                  "0": "zzTerminsbiljett HT Bålsta",
                  "1": "Ungdomsbiljett"
                },
                {
                  "0": "Skolbiljett vårtermin skola",
                  "1": "Ungdomsbiljett"
                },
                {
                  "0": "zzTerminsbiljett VT Bålsta skola",
                  "1": "Ungdomsbiljett"
                },
                {
                  "0": "Skolbiljett hösttermin skola",
                  "1": "Ungdomsbiljett"
                },
                {
                  "0": "zzTerminsbiljett HT Bålsta skola",
                  "1": "Ungdomsbiljett"
                },
                {
                  "0": "Skolbiljett 90 dagar",
                  "1": "Ungdomsbiljett"
                },
                {
                  "0": "Skolbiljett 90 dagar skola",
                  "1": "Ungdomsbiljett"
                },
                {
                  "0": "Skolbiljett 120 dagar",
                  "1": "Ungdomsbiljett"
                },
                {
                  "0": "Skolbiljett 120 dagar skola",
                  "1": "Ungdomsbiljett"
                },
                {
                  "0": "zzFritidsbiljett Maj-Aug",
                  "1": "Ungdomsbiljett"
                },
                {
                  "0": "zzSommarlovsbiljett skolungdom",
                  "1": "Ungdomsbiljett"
                },
                {
                  "0": "Fritidsbiljett Hösttermin",
                  "1": "Ungdomsbiljett"
                },
                {
                  "0": "zzFritidsbiljett HT Bålsta",
                  "1": "Ungdomsbiljett"
                },
                {
                  "0": "Fritidsbiljett 90 dagar",
                  "1": "Ungdomsbiljett"
                },
                {
                  "0": "Fritidsbiljett vårtermin",
                  "1": "Ungdomsbiljett"
                },
                {
                  "0": "zzFritidsbiljett VT Bålsta",
                  "1": "Ungdomsbiljett"
                },
                {
                  "0": "Fritidsbiljett 120 dagar",
                  "1": "Ungdomsbiljett"
                },
                {
                  "0": "zzStudentbiljett Januari",
                  "1": "Lång periodbiljett"
                },
                {
                  "0": "zzStudentbiljett Februari",
                  "1": "Lång periodbiljett"
                },
                {
                  "0": "zzStudentbiljett Mars",
                  "1": "Lång periodbiljett"
                },
                {
                  "0": "zzStudentbiljett 30 dagar",
                  "1": "30-dagarsbiljett"
                },
                {
                  "0": "zzStudentbiljett 90 dagar",
                  "1": "Lång periodbiljett"
                },
                {
                  "0": "zzZonbiljett-A Helt",
                  "1": "Enkelbiljett"
                },
                {
                  "0": "zzZonbiljett-A Helt",
                  "1": "Enkelbiljett"
                },
                {
                  "0": "zzZonbiljett-A Red",
                  "1": "Enkelbiljett"
                },
                {
                  "0": "zzZonbiljett-A Red",
                  "1": "Enkelbiljett"
                },
                {
                  "0": "zzZonbiljett-B Helt",
                  "1": "Enkelbiljett"
                },
                {
                  "0": "zzZonbiljett-B Helt",
                  "1": "Enkelbiljett"
                },
                {
                  "0": "zzZonbiljett-B Red",
                  "1": "Enkelbiljett"
                },
                {
                  "0": "zzZonbiljett-B Red",
                  "1": "Enkelbiljetter"
                },
                {
                  "0": "zzZonbiljett-C Helt",
                  "1": "Enkelbiljett"
                },
                {
                  "0": "zzZonbiljett-C Helt",
                  "1": "Enkelbiljett"
                },
                {
                  "0": "zzZonbiljett-C Red",
                  "1": "Enkelbiljett"
                },
                {
                  "0": "zzZonbiljett-C Red",
                  "1": "Enkelbiljett"
                },
                {
                  "0": "zzZonbiljett-AB Helt",
                  "1": "Enkelbiljett"
                },
                {
                  "0": "zzZonbiljett-AB Helt",
                  "1": "Enkelbiljett"
                },
                {
                  "0": "zzZonbiljett-AB Red",
                  "1": "Enkelbiljett"
                },
                {
                  "0": "zzZonbiljett-AB Red",
                  "1": "Enkelbiljett"
                },
                {
                  "0": "zzZonbiljett-BC Helt",
                  "1": "Enkelbiljetter"
                },
                {
                  "0": "zzZonbiljett-BC Helt",
                  "1": "Enkelbiljetter"
                },
                {
                  "0": "zzZonbiljett-BC Red",
                  "1": "Enkelbiljetter"
                },
                {
                  "0": "zzZonbiljett-BC Red",
                  "1": "Enkelbiljett"
                },
                {
                  "0": "zzZonbiljett-ABC Helt",
                  "1": "Enkelbiljett"
                },
                {
                  "0": "zzZonbiljett-ABC Helt",
                  "1": "Enkelbiljett"
                },
                {
                  "0": "zzZonbiljett-ABC Red",
                  "1": "Enkelbiljett"
                },
                {
                  "0": "zzZonbiljett-ABC Red",
                  "1": "Enkelbiljett"
                },
                {
                  "0": "zzZonbiljett A Helt",
                  "1": "Enkelbiljett"
                },
                {
                  "0": "zzZonbiljett A Helt",
                  "1": "Enkelbiljett"
                },
                {
                  "0": "zzZonbiljett A Red",
                  "1": "Enkelbiljett"
                },
                {
                  "0": "zzZonbiljett A Red",
                  "1": "Enkelbiljett"
                },
                {
                  "0": "zzZonbiljett B Helt",
                  "1": "Enkelbiljett"
                },
                {
                  "0": "zzZonbiljett B Helt",
                  "1": "Enkelbiljett"
                },
                {
                  "0": "zzZonbiljett B Red",
                  "1": "Enkelbiljett"
                },
                {
                  "0": "zzZonbiljett B Red",
                  "1": "Enkelbiljett"
                },
                {
                  "0": "zzZonbiljett C Helt",
                  "1": "Enkelbiljett"
                },
                {
                  "0": "zzZonbiljett C Helt",
                  "1": "Enkelbiljett"
                },
                {
                  "0": "zzZonbiljett C Red",
                  "1": "Enkelbiljett"
                },
                {
                  "0": "zzZonbiljett C Red",
                  "1": "Enkelbiljett"
                },
                {
                  "0": "zzZonbiljett AB Helt",
                  "1": "Enkelbiljett"
                },
                {
                  "0": "zzZonbiljett AB Helt",
                  "1": "Enkelbiljett"
                },
                {
                  "0": "zzZonbiljett AB Red",
                  "1": "Enkelbiljett"
                },
                {
                  "0": "zzZonbiljett AB Red",
                  "1": "Enkelbiljett"
                },
                {
                  "0": "zzZonbiljett BC Helt",
                  "1": "Enkelbiljett"
                },
                {
                  "0": "zzZonbiljett BC Helt",
                  "1": "Enkelbiljett"
                },
                {
                  "0": "zzZonbiljett BC Red",
                  "1": "Enkelbiljett"
                },
                {
                  "0": "zzZonbiljett BC Red",
                  "1": "Enkelbiljett"
                },
                {
                  "0": "zzZonbiljett ABC Helt",
                  "1": "Enkelbiljett"
                },
                {
                  "0": "zzZonbiljett ABC Helt",
                  "1": "Enkelbiljett"
                },
                {
                  "0": "zzZonbiljett ABC Red",
                  "1": "Enkelbiljett"
                },
                {
                  "0": "zzZonbiljett ABC Red",
                  "1": "Enkelbiljett"
                },
                {
                  "0": "Arlanda + SL vuxen endast 1 passage",
                  "1": "Enkelbiljett",
                  "2": "Single"
                },
                {
                  "0": "Arlanda + SL vuxen endast 1 passage",
                  "1": "Enkelbiljett",
                  "2": "Single"
                },
                {
                  "0": "Arlanda + SL rabatterad endast 1 passage",
                  "1": "Enkelbiljett",
                  "2": "Single"
                },
                {
                  "0": "Arlanda + SL rabatterad endast 1 passage",
                  "1": "Enkelbiljett",
                  "2": "Single"
                },
                {
                  "0": "zzLänsgränspassage Helt",
                  "1": "Enkelbiljett"
                },
                {
                  "0": "zzLänsgränspassage Red",
                  "1": "Enkelbiljett"
                },
                {
                  "0": "Passagebiljett Arlanda vuxen endast 1 passage",
                  "1": "Enkelbiljett"
                },
                {
                  "0": "Passagebiljett Arlanda vuxen endast 1 passage",
                  "1": "Enkelbiljett"
                },
                {
                  "0": "zzArlanda Passage Red",
                  "1": "Enkelbiljett"
                },
                {
                  "0": "zzArlanda Passage Red",
                  "1": "Enkelbiljett"
                },
                {
                  "0": "Färdtjänstbiljett",
                  "1": "Övrigt"
                },
                {
                  "0": "Servicetekniker spår",
                  "1": "Övrigt"
                },
                {
                  "0": "Inträdesbiljett gäller EJ för resa 2023",
                  "1": "Övrigt"
                },
                {
                  "0": "zzHäfte Förköpsremsa Hel",
                  "1": "Enkelbiljett"
                },
                {
                  "0": "zzHäfte Förköpsremsa Red",
                  "1": "Enkelbiljett"
                },
                {
                  "0": "Konstvisningsbiljett",
                  "1": "Övrigt"
                },
                {
                  "0": "Parkeringsbiljett",
                  "1": "Övrigt"
                },
                {
                  "0": "Prova på biljett fast startdatum",
                  "1": "Kort periodbiljett"
                },
                {
                  "0": "zzStockholmsmässan entré",
                  "1": "Kort periodbiljett"
                },
                {
                  "0": "Övningsbiljett Hel (Ej för resa)",
                  "1": "Övrigt"
                },
                {
                  "0": "Testbiljett buss (Ej för resa)",
                  "1": "Övrigt"
                },
                {
                  "0": "Testbiljett spår (Ej för resa)",
                  "1": "Övrigt"
                },
                {
                  "0": "Testbiljett allt (Ej för resa)",
                  "1": "Övrigt"
                },
                {
                  "0": "Övningsbiljett Red (Ej för resa)",
                  "1": "Övrigt"
                },
                {
                  "0": "zzDjurgårdsfärjan Helt pris",
                  "1": "Enkelbiljett"
                },
                {
                  "0": "zzDjurgårdsfärjan Reducerat pris",
                  "1": "Enkelbiljett"
                },
                {
                  "0": "zzDjurgårdsfärjan cykeltillägg",
                  "1": "Övrigt"
                },
                {
                  "0": "zzDjurgårdsfärjan  2 Helt pris (grupp)",
                  "1": "Enkelbiljett"
                },
                {
                  "0": "zzDjurgårdsfärjan  3 Helt pris (grupp)",
                  "1": "Enkelbiljett"
                },
                {
                  "0": "zzDjurgårdsfärjan  4 Helt pris (grupp)",
                  "1": "Enkelbiljett"
                },
                {
                  "0": "zzDjurgårdsfärjan  5 Helt pris (grupp)",
                  "1": "Enkelbiljett"
                },
                {
                  "0": "zzDjurgårdsfärjan  6 Helt pris (grupp)",
                  "1": "Enkelbiljett"
                },
                {
                  "0": "zzDjurgårdsfärjan  7 Helt pris (grupp)",
                  "1": "Enkelbiljett"
                },
                {
                  "0": "zzDjurgårdsfärjan  8 Helt pris (grupp)",
                  "1": "Enkelbiljett"
                },
                {
                  "0": "zzDjurgårdsfärjan  9 Helt pris (grupp)",
                  "1": "Enkelbiljett"
                },
                {
                  "0": "zzDjurgårdsfärjan 10 Helt pris (grupp)",
                  "1": "Enkelbiljett"
                },
                {
                  "0": "zzDjurgårdsfärjan  2 Reducerat pris (grupp)",
                  "1": "Enkelbiljett"
                },
                {
                  "0": "zzDjurgårdsfärjan  3 Reducerat pris (grupp)",
                  "1": "Enkelbiljett"
                },
                {
                  "0": "zzDjurgårdsfärjan  4 Reducerat pris (grupp)",
                  "1": "Enkelbiljett"
                },
                {
                  "0": "zzDjurgårdsfärjan  5 Reducerat pris (grupp)",
                  "1": "Enkelbiljett"
                },
                {
                  "0": "zzDjurgårdsfärjan 10 Reducerat pris (grupp)",
                  "1": "Enkelbiljett"
                },
                {
                  "0": "zzSäsongsbiljett Sept-Dec Helt",
                  "1": "Lång periodbiljett"
                },
                {
                  "0": "zzSäsongsbiljett Sept-Dec Red",
                  "1": "Lång periodbiljett"
                },
                {
                  "0": "zz30-dagarsbiljett",
                  "1": "30-dagarsbiljett"
                },
                {
                  "0": "zz30-dagarsbiljett Red.",
                  "1": "30-dagarsbiljett"
                },
                {
                  "0": "30-dagar vuxen",
                  "1": "30-dagarsbiljett",
                  "2": "Adult"
                },
                {
                  "0": "30-dagar rabatterad",
                  "1": "30-dagarsbiljett",
                  "2": "Adult"
                },
                {
                  "0": "30-dagar vuxen ftg",
                  "1": "30-dagarsbiljett",
                  "2": "Adult"
                },
                {
                  "0": "30-dagar rabatterad ftg",
                  "1": "30-dagarsbiljett",
                  "2": "Adult"
                },
                {
                  "0": "zz30-dagarsbiljett Bålsta Helt",
                  "1": "30-dagarsbiljett"
                },
                {
                  "0": "zz30-dagarsbiljett Bålsta Red",
                  "1": "30-dagarsbiljett"
                },
                {
                  "0": "zz30-dagarsbiljett Bålsta Ftg Helt",
                  "1": "30-dagarsbiljett"
                },
                {
                  "0": "zz30-dagarsbiljett Bålsta Ftg Red",
                  "1": "30-dagarsbiljett"
                },
                {
                  "0": "30-dagar Arlanda vuxen",
                  "1": "30-dagarsbiljett",
                  "2": "Adult"
                },
                {
                  "0": "30-dagar Arlanda rabatterad",
                  "1": "30-dagarsbiljett",
                  "2": "Adult"
                },
                {
                  "0": "zz30-dagarsbiljett Norrtälje Helt",
                  "1": "30-dagarsbiljett"
                },
                {
                  "0": "zz30-dagarsbiljett Norrtälje Red",
                  "1": "30-dagarsbiljett"
                },
                {
                  "0": "zz30-dagarsbiljett Södertälje Helt",
                  "1": "30-dagarsbiljett"
                },
                {
                  "0": "zz30-dagarsbiljett Södertälje Red",
                  "1": "30-dagarsbiljett"
                },
                {
                  "0": "30-dagar UL/SL vuxen",
                  "1": "30-dagarsbiljett",
                  "2": "Adult"
                },
                {
                  "0": "zzUL/SL 30 - hela UL SL C",
                  "1": "30-dagarsbiljett"
                },
                {
                  "0": "zzUL/SL 30 - UL 2 SL län vuxen",
                  "1": "30-dagarsbiljett"
                },
                {
                  "0": "zzUL/SL 30 - UL 1 SL C",
                  "1": "30-dagarsbiljett"
                },
                {
                  "0": "zzUL/SL 30 - UL 2 SL C",
                  "1": "30-dagarsbiljett"
                },
                {
                  "0": "zzSäsongsbiljett Sept-Dec Ftg Helt",
                  "1": "Lång periodbiljett"
                },
                {
                  "0": "zzSäsongsbiljett Sept-Dec Ftg Red",
                  "1": "Lång periodbiljett"
                },
                {
                  "0": "90-dagar vuxen",
                  "1": "Lång periodbiljett",
                  "2": "Adult"
                },
                {
                  "0": "90-dagar rabatterad",
                  "1": "Lång periodbiljett",
                  "2": "Adult"
                },
                {
                  "0": "90-dagar vuxen ftg",
                  "1": "Lång periodbiljett",
                  "2": "Adult"
                },
                {
                  "0": "90-dagar rabatterad ftg",
                  "1": "Lång periodbiljett",
                  "2": "Adult"
                },
                {
                  "0": "zzSommarbiljett vuxen",
                  "1": "Lång periodbiljett"
                },
                {
                  "0": "zzSommarbiljett rabatterad",
                  "1": "Lång periodbiljett"
                },
                {
                  "0": "zzSommarbiljett vuxen ftg",
                  "1": "Lång periodbiljett"
                },
                {
                  "0": "zzSommarbiljett rabatterad ftg",
                  "1": "Lång periodbiljett"
                },
                {
                  "0": "zz90-dagarsbiljett",
                  "1": "Lång periodbiljett"
                },
                {
                  "0": "zz90-dagarsbiljett Red.",
                  "1": "Lång periodbiljett"
                },
                {
                  "0": "Årsbiljett Jan-Dec vuxen",
                  "1": "Lång periodbiljett",
                  "2": "Adult"
                },
                {
                  "0": "Årsbiljett Jan-Dec rabatterad",
                  "1": "Lång periodbiljett",
                  "2": "Adult"
                },
                {
                  "0": "Årsbiljett vuxen ftg",
                  "1": "Lång periodbiljett",
                  "2": "Adult"
                },
                {
                  "0": "Årsbiljett rabatterad ftg",
                  "1": "Lång periodbiljett",
                  "2": "Adult"
                },
                {
                  "0": "Årsbiljett vuxen",
                  "1": "Lång periodbiljett",
                  "2": "Adult"
                },
                {
                  "0": "Årsbiljett rabatterad",
                  "1": "Lång periodbiljett",
                  "2": "Adult"
                },
                {
                  "0": "7-dagar vuxen",
                  "1": "Kort periodbiljett",
                  "2": "Tourist"
                },
                {
                  "0": "7-dagar rabatterad",
                  "1": "Kort periodbiljett",
                  "2": "Tourist"
                },
                {
                  "0": "7-dagar vuxen ftg",
                  "1": "Kort periodbiljett",
                  "2": "Tourist"
                },
                {
                  "0": "7-dagar rabatterad ftg",
                  "1": "Kort periodbiljett",
                  "2": "Tourist"
                },
                {
                  "0": "24-timmar vuxen",
                  "1": "Kort periodbiljett",
                  "2": "Tourist"
                },
                {
                  "0": "24-timmar rabatterad",
                  "1": "Kort periodbiljett",
                  "2": "Tourist"
                },
                {
                  "0": "24-timmar vuxen ftg",
                  "1": "Kort periodbiljett",
                  "2": "Tourist"
                },
                {
                  "0": "72-timmar vuxen",
                  "1": "Kort periodbiljett",
                  "2": "Tourist"
                },
                {
                  "0": "72-timmar rabatterad",
                  "1": "Kort periodbiljett",
                  "2": "Tourist"
                },
                {
                  "0": "Skolbiljett vårtermin",
                  "1": "Ungdomsbiljett"
                },
                {
                  "0": "zzTerminsbiljett VT Bålsta",
                  "1": "Ungdomsbiljett"
                },
                {
                  "0": "Skolbiljett hösttermin",
                  "1": "Ungdomsbiljett"
                },
                {
                  "0": "zzTerminsbiljett HT Bålsta",
                  "1": "Ungdomsbiljett"
                },
                {
                  "0": "Skolbiljett vårtermin skola",
                  "1": "Ungdomsbiljett"
                },
                {
                  "0": "zzTerminsbiljett VT Bålsta skola",
                  "1": "Ungdomsbiljett"
                },
                {
                  "0": "Skolbiljett hösttermin skola",
                  "1": "Ungdomsbiljett"
                },
                {
                  "0": "zzTerminsbiljett HT Bålsta skola",
                  "1": "Ungdomsbiljett"
                },
                {
                  "0": "Skolbiljett 90 dagar",
                  "1": "Ungdomsbiljett"
                },
                {
                  "0": "Skolbiljett 90 dagar skola",
                  "1": "Ungdomsbiljett"
                },
                {
                  "0": "Skolbiljett 120 dagar",
                  "1": "Ungdomsbiljett"
                },
                {
                  "0": "Skolbiljett 120 dagar skola",
                  "1": "Ungdomsbiljett"
                },
                {
                  "0": "Fritidsbiljett Hösttermin",
                  "1": "Ungdomsbiljett"
                },
                {
                  "0": "zzFritidsbiljett HT Bålsta",
                  "1": "Ungdomsbiljett"
                },
                {
                  "0": "Fritidsbiljett 90 dagar",
                  "1": "Ungdomsbiljett"
                },
                {
                  "0": "Fritidsbiljett vårtermin",
                  "1": "Ungdomsbiljett"
                },
                {
                  "0": "zzFritidsbiljett VT Bålsta",
                  "1": "Ungdomsbiljett"
                },
                {
                  "0": "Fritidsbiljett 120 dagar",
                  "1": "Ungdomsbiljett"
                },
                {
                  "0": "zzStudentbiljett 30 dagar",
                  "1": "30-dagarsbiljett"
                },
                {
                  "0": "zzStudentbiljett 90 dagar",
                  "1": "Lång periodbiljett"
                },
                {
                  "0": "zzZonbiljett-A Helt",
                  "1": "Enkelbiljett"
                },
                {
                  "0": "zzZonbiljett-A Helt",
                  "1": "Enkelbiljett"
                },
                {
                  "0": "zzZonbiljett-A Red",
                  "1": "Enkelbiljett"
                },
                {
                  "0": "zzZonbiljett-A Red",
                  "1": "Enkelbiljett"
                },
                {
                  "0": "zzZonbiljett-B Helt",
                  "1": "Enkelbiljett"
                },
                {
                  "0": "zzZonbiljett-B Helt",
                  "1": "Enkelbiljett"
                },
                {
                  "0": "zzZonbiljett-B Red",
                  "1": "Enkelbiljett"
                },
                {
                  "0": "zzZonbiljett-B Red",
                  "1": "Enkelbiljetter"
                },
                {
                  "0": "zzZonbiljett-C Helt",
                  "1": "Enkelbiljett"
                },
                {
                  "0": "zzZonbiljett-C Helt",
                  "1": "Enkelbiljett"
                },
                {
                  "0": "zzZonbiljett-C Red",
                  "1": "Enkelbiljett"
                },
                {
                  "0": "zzZonbiljett-C Red",
                  "1": "Enkelbiljett"
                },
                {
                  "0": "zzZonbiljett-AB Helt",
                  "1": "Enkelbiljett"
                },
                {
                  "0": "zzZonbiljett-AB Helt",
                  "1": "Enkelbiljett"
                },
                {
                  "0": "zzZonbiljett-AB Red",
                  "1": "Enkelbiljett"
                },
                {
                  "0": "zzZonbiljett-AB Red",
                  "1": "Enkelbiljett"
                },
                {
                  "0": "zzZonbiljett-BC Helt",
                  "1": "Enkelbiljetter"
                },
                {
                  "0": "zzZonbiljett-BC Helt",
                  "1": "Enkelbiljetter"
                },
                {
                  "0": "zzZonbiljett-BC Red",
                  "1": "Enkelbiljetter"
                },
                {
                  "0": "zzZonbiljett-BC Red",
                  "1": "Enkelbiljett"
                },
                {
                  "0": "zzZonbiljett-ABC Helt",
                  "1": "Enkelbiljett"
                },
                {
                  "0": "zzZonbiljett-ABC Helt",
                  "1": "Enkelbiljett"
                },
                {
                  "0": "zzZonbiljett-ABC Red",
                  "1": "Enkelbiljett"
                },
                {
                  "0": "zzZonbiljett-ABC Red",
                  "1": "Enkelbiljett"
                },
                {
                  "0": "zzZonbiljett A Helt",
                  "1": "Enkelbiljett"
                },
                {
                  "0": "zzZonbiljett A Helt",
                  "1": "Enkelbiljett"
                },
                {
                  "0": "zzZonbiljett A Red",
                  "1": "Enkelbiljett"
                },
                {
                  "0": "zzZonbiljett A Red",
                  "1": "Enkelbiljett"
                },
                {
                  "0": "zzZonbiljett B Helt",
                  "1": "Enkelbiljett"
                },
                {
                  "0": "zzZonbiljett B Helt",
                  "1": "Enkelbiljett"
                },
                {
                  "0": "zzZonbiljett B Red",
                  "1": "Enkelbiljett"
                },
                {
                  "0": "zzZonbiljett B Red",
                  "1": "Enkelbiljett"
                },
                {
                  "0": "zzZonbiljett C Helt",
                  "1": "Enkelbiljett"
                },
                {
                  "0": "zzZonbiljett C Helt",
                  "1": "Enkelbiljett"
                },
                {
                  "0": "zzZonbiljett C Red",
                  "1": "Enkelbiljett"
                },
                {
                  "0": "zzZonbiljett C Red",
                  "1": "Enkelbiljett"
                },
                {
                  "0": "zzZonbiljett AB Helt",
                  "1": "Enkelbiljett"
                },
                {
                  "0": "zzZonbiljett AB Helt",
                  "1": "Enkelbiljett"
                },
                {
                  "0": "zzZonbiljett AB Red",
                  "1": "Enkelbiljett"
                },
                {
                  "0": "zzZonbiljett AB Red",
                  "1": "Enkelbiljett"
                },
                {
                  "0": "zzZonbiljett BC Helt",
                  "1": "Enkelbiljett"
                },
                {
                  "0": "zzZonbiljett BC Helt",
                  "1": "Enkelbiljett"
                },
                {
                  "0": "zzZonbiljett BC Red",
                  "1": "Enkelbiljett"
                },
                {
                  "0": "zzZonbiljett BC Red",
                  "1": "Enkelbiljett"
                },
                {
                  "0": "zzZonbiljett ABC Helt",
                  "1": "Enkelbiljett"
                },
                {
                  "0": "zzZonbiljett ABC Helt",
                  "1": "Enkelbiljett"
                },
                {
                  "0": "zzZonbiljett ABC Red",
                  "1": "Enkelbiljett"
                },
                {
                  "0": "zzZonbiljett ABC Red",
                  "1": "Enkelbiljett"
                },
                {
                  "0": "Arlanda + SL vuxen endast 1 passage",
                  "1": "Enkelbiljett",
                  "2": "Single"
                },
                {
                  "0": "Arlanda + SL vuxen endast 1 passage",
                  "1": "Enkelbiljett",
                  "2": "Single"
                },
                {
                  "0": "Arlanda + SL rabatterad endast 1 passage",
                  "1": "Enkelbiljett",
                  "2": "Single"
                },
                {
                  "0": "Arlanda + SL rabatterad endast 1 passage",
                  "1": "Enkelbiljett",
                  "2": "Single"
                },
                {
                  "0": "zzLänsgränspassage Helt",
                  "1": "Enkelbiljett"
                },
                {
                  "0": "zzLänsgränspassage Red",
                  "1": "Enkelbiljett"
                },
                {
                  "0": "zzSäsongsbiljett Jan-Apr Ftg Helt",
                  "1": "Lång periodbiljett"
                },
                {
                  "0": "zzSäsongsbiljett Jan-Apr Ftg Red",
                  "1": "Lång periodbiljett"
                },
                {
                  "0": "zzSäsongsbiljett Maj-Aug Ftg Helt",
                  "1": "Lång periodbiljett"
                },
                {
                  "0": "zzSäsongsbiljett Maj-Aug Ftg Red",
                  "1": "Lång periodbiljett"
                },
                {
                  "0": "zzDjurgårdsfärjan Helt pris",
                  "1": "Enkelbiljett"
                },
                {
                  "0": "zzDjurgårdsfärjan Reducerat pris",
                  "1": "Enkelbiljett"
                },
                {
                  "0": "zzDjurgårdsfärjan  2 Helt pris (grupp)",
                  "1": "Enkelbiljett"
                },
                {
                  "0": "zzDjurgårdsfärjan  3 Helt pris (grupp)",
                  "1": "Enkelbiljett"
                },
                {
                  "0": "zzDjurgårdsfärjan  4 Helt pris (grupp)",
                  "1": "Enkelbiljett"
                },
                {
                  "0": "zzDjurgårdsfärjan  5 Helt pris (grupp)",
                  "1": "Enkelbiljett"
                },
                {
                  "0": "zzDjurgårdsfärjan  6 Helt pris (grupp)",
                  "1": "Enkelbiljett"
                },
                {
                  "0": "zzDjurgårdsfärjan  7 Helt pris (grupp)",
                  "1": "Enkelbiljett"
                },
                {
                  "0": "zzDjurgårdsfärjan  8 Helt pris (grupp)",
                  "1": "Enkelbiljett"
                },
                {
                  "0": "zzDjurgårdsfärjan  9 Helt pris (grupp)",
                  "1": "Enkelbiljett"
                },
                {
                  "0": "zzDjurgårdsfärjan 10 Helt pris (grupp)",
                  "1": "Enkelbiljett"
                },
                {
                  "0": "zzDjurgårdsfärjan  2 Reducerat pris (grupp)",
                  "1": "Enkelbiljett"
                },
                {
                  "0": "zzDjurgårdsfärjan  3 Reducerat pris (grupp)",
                  "1": "Enkelbiljett"
                },
                {
                  "0": "zzDjurgårdsfärjan  4 Reducerat pris (grupp)",
                  "1": "Enkelbiljett"
                },
                {
                  "0": "zzDjurgårdsfärjan  5 Reducerat pris (grupp)",
                  "1": "Enkelbiljett"
                },
                {
                  "0": "zzDjurgårdsfärjan 10 Reducerat pris (grupp)",
                  "1": "Enkelbiljett"
                },
                {
                  "0": "30-dagar UL/SL vuxen",
                  "1": "30-dagarsbiljett",
                  "2": "Adult"
                },
                {
                  "0": "zzUL/SL 30 - hela UL SL C",
                  "1": "30-dagarsbiljett"
                },
                {
                  "0": "zzUL/SL 30 - UL 2 SL län vuxen",
                  "1": "30-dagarsbiljett"
                },
                {
                  "0": "zzUL/SL 30 - UL 1 SL C",
                  "1": "30-dagarsbiljett"
                },
                {
                  "0": "zzUL/SL 30 - UL 2 SL C",
                  "1": "30-dagarsbiljett"
                },
                {
                  "0": "30-dagar UL/SL student",
                  "1": "30-dagarsbiljett"
                },
                {
                  "0": "TiM/SL Spärröppnare",
                  "1": "Spärröppnare"
                },
                {
                  "0": "zzSommarlovsbiljett skolungdom",
                  "1": "Ungdomsbiljett"
                },
                {
                  "0": "Läsårsbiljett plus skola",
                  "1": "Ungdomsbiljett"
                },
                {
                  "0": "Läsårsbiljett skola",
                  "1": "Ungdomsbiljett"
                },
                {
                  "0": "WAX 30 dagar vuxen",
                  "1": "30-dagarsbiljett",
                  "2": "Adult"
                },
                {
                  "0": "WAX 30 dagar rabatterad",
                  "1": "30-dagarsbiljett",
                  "2": "Adult"
                },
                {
                  "0": "Reskassa",
                  "1": "Reskassa",
                  "2": "Single"
                },
                {
                  "0": "zzUL/SL 30 - UL 2 SL län student",
                  "1": "30-dagarsbiljett"
                },
                {
                  "0": "zzUL län/SL län enkel vuxen",
                  "1": "Enkelbiljett"
                },
                {
                  "0": "zzUL län/SL län enkel ungdom",
                  "1": "Enkelbiljett"
                },
                {
                  "0": "zzUL län/SL C enkel vuxen",
                  "1": "Enkelbiljett"
                },
                {
                  "0": "zzUL län/SL C enkel ungdom",
                  "1": "Enkelbiljett"
                },
                {
                  "0": "zzUL 2/SL C enkel vuxen",
                  "1": "Enkelbiljett"
                },
                {
                  "0": "zzUL 2/SL C enkel ungdom",
                  "1": "Enkelbiljett"
                },
                {
                  "0": "zzUL 2/SL län enkel vuxen",
                  "1": "Enkelbiljett"
                },
                {
                  "0": "zzUL 2/SL län enkel ungdom",
                  "1": "Enkelbiljett"
                },
                {
                  "0": "zzUL län tilläggsbilj vuxen",
                  "1": "Enkelbiljett"
                },
                {
                  "0": "zzUL län tilläggsbilj ungdom",
                  "1": "Enkelbiljett"
                },
                {
                  "0": "30-dagar Arlanda rabatterad",
                  "1": "30-dagarsbiljett",
                  "2": "Adult"
                },
                {
                  "0": "zzUL/SL 30 - UL 2 SL län vuxen",
                  "1": "30-dagarsbiljett"
                },
                {
                  "0": "Arlanda + SL vuxen endast 1 passage",
                  "1": "Enkelbiljett",
                  "2": "Single"
                },
                {
                  "0": "Arlanda + SL vuxen endast 1 passage",
                  "1": "Enkelbiljett",
                  "2": "Single"
                },
                {
                  "0": "Arlanda + SL rabatterad endast 1 passage",
                  "1": "Enkelbiljett",
                  "2": "Single"
                },
                {
                  "0": "Arlanda + SL rabatterad endast 1 passage",
                  "1": "Enkelbiljett",
                  "2": "Single"
                },
                {
                  "0": "Passagebiljett Arlanda vuxen endast 1 passage",
                  "1": "Enkelbiljett"
                },
                {
                  "0": "Passagebiljett Arlanda vuxen endast 1 passage",
                  "1": "Enkelbiljett"
                },
                {
                  "0": "zzSL län tilläggsbiljett vuxen",
                  "1": "Enkelbiljett"
                },
                {
                  "0": "zzSL län tilläggsbiljett ungdom",
                  "1": "Enkelbiljett"
                },
                {
                  "0": "30-dagar UL/SL vuxen",
                  "1": "30-dagarsbiljett",
                  "2": "Adult"
                },
                {
                  "0": "zzUL/SL 30 - UL 2 SL län vuxen",
                  "1": "30-dagarsbiljett"
                },
                {
                  "0": "30-dagar UL/SL student",
                  "1": "30-dagarsbiljett"
                },
                {
                  "0": "zzUL/SL 30 - UL 2 SL län student",
                  "1": "30-dagarsbiljett"
                },
                {
                  "0": "Taxa1",
                  "1": "Enkelbiljett"
                },
                {
                  "0": "Taxa2",
                  "1": "Enkelbiljett"
                },
                {
                  "0": "Taxa3",
                  "1": "Enkelbiljett"
                },
                {
                  "0": "Taxa4",
                  "1": "Enkelbiljett"
                },
                {
                  "0": "Taxa5",
                  "1": "Enkelbiljett"
                },
                {
                  "0": "Taxa6",
                  "1": "Enkelbiljett"
                },
                {
                  "0": "WAX 5-dagarsbiljett",
                  "1": "Kort periodbiljett"
                },
                {
                  "0": "WAX Ö-biljett 2019",
                  "1": "Lång periodbiljett"
                },
                {
                  "0": "WAX Ungdomsbiljett 6 mån",
                  "1": "Ungdomsbiljett"
                },
                {
                  "0": "zzWÅAB passagebiljett",
                  "1": "Övrigt"
                },
                {
                  "0": "UL 1 2 5+SL Sthlm-Uppsala vuxen",
                  "1": "Enkelbiljett"
                },
                {
                  "0": "UL 2 5+SL Sthlm-Knivsta vuxen",
                  "1": "Enkelbiljett"
                },
                {
                  "0": "UL 1 2 3 5+SL vuxen",
                  "1": "Enkelbiljett"
                },
                {
                  "0": "UL 1 2 3 4 5+SL vuxen",
                  "1": "Enkelbiljett"
                },
                {
                  "0": "UL 1 2+SL vuxen",
                  "1": "Enkelbiljett"
                },
                {
                  "0": "UL 2+SL vuxen",
                  "1": "Enkelbiljett"
                },
                {
                  "0": "UL 3+SL vuxen",
                  "1": "Enkelbiljett"
                },
                {
                  "0": "UL 1 2 3+SL vuxen",
                  "1": "Enkelbiljett"
                },
                {
                  "0": "UL 1 2 5+SL Sthlm-Uppsala ungdom",
                  "1": "Enkelbiljett"
                },
                {
                  "0": "UL 2 5+SL Sthlm-Knivsta ungdom",
                  "1": "Enkelbiljett"
                },
                {
                  "0": "UL 1 2 3 5+SL ungdom",
                  "1": "Enkelbiljett"
                },
                {
                  "0": "UL 1 2 3 4 5+SL ungdom",
                  "1": "Enkelbiljett"
                },
                {
                  "0": "UL 1 2+SL ungdom",
                  "1": "Enkelbiljett"
                },
                {
                  "0": "UL 2+SL ungdom",
                  "1": "Enkelbiljett"
                },
                {
                  "0": "UL 3+SL ungdom",
                  "1": "Enkelbiljett"
                },
                {
                  "0": "UL 1 2 3+SL ungdom",
                  "1": "Enkelbiljett"
                },
                {
                  "0": "UL 1 2 5 Uppsala vuxen",
                  "1": "Enkelbiljett"
                },
                {
                  "0": "UL 2 5 Knivsta vuxen",
                  "1": "Enkelbiljett"
                },
                {
                  "0": "UL 1 2 3 5 vuxen",
                  "1": "Enkelbiljett"
                },
                {
                  "0": "UL 1 2 3 4 5 vuxen",
                  "1": "Enkelbiljett"
                },
                {
                  "0": "UL 1 2 vuxen",
                  "1": "Enkelbiljett"
                },
                {
                  "0": "UL 2 vuxen",
                  "1": "Enkelbiljett"
                },
                {
                  "0": "UL 3 vuxen",
                  "1": "Enkelbiljett"
                },
                {
                  "0": "UL 1 2 3 vuxen",
                  "1": "Enkelbiljett"
                },
                {
                  "0": "UL 1 2 5 Uppsala ungdom",
                  "1": "Enkelbiljett"
                },
                {
                  "0": "UL 2 5 Knivsta ungdom",
                  "1": "Enkelbiljett"
                },
                {
                  "0": "UL 1 2 3 5 ungdom",
                  "1": "Enkelbiljett"
                },
                {
                  "0": "UL 1 2 3 4 5 ungdom",
                  "1": "Enkelbiljett"
                },
                {
                  "0": "UL 1 2 ungdom",
                  "1": "Enkelbiljett"
                },
                {
                  "0": "UL 2 ungdom",
                  "1": "Enkelbiljett"
                },
                {
                  "0": "UL 3 ungdom",
                  "1": "Enkelbiljett"
                },
                {
                  "0": "UL 1 2 3 ungdom",
                  "1": "Enkelbiljett"
                },
                {
                  "0": "zzTaxa 1",
                  "1": "Enkelbiljett"
                },
                {
                  "0": "zzTaxa 2",
                  "1": "Enkelbiljett"
                },
                {
                  "0": "zzTaxa 3",
                  "1": "Enkelbiljett"
                },
                {
                  "0": "Retur Taxa 1",
                  "1": "Enkelbiljett"
                },
                {
                  "0": "Retur Taxa 2",
                  "1": "Enkelbiljett"
                },
                {
                  "0": "Retur Taxa 3",
                  "1": "Enkelbiljett"
                },
                {
                  "0": "Retur Taxa 4",
                  "1": "Enkelbiljett"
                },
                {
                  "0": "Retur Taxa 5",
                  "1": "Enkelbiljett"
                },
                {
                  "0": "Retur Taxa 6",
                  "1": "Enkelbiljett"
                },
                {
                  "0": "Retur Grp Taxa 1-6",
                  "1": "Enkelbiljett"
                },
                {
                  "0": "30-dagar UL/SL vuxen",
                  "1": "30-dagarsbiljett",
                  "2": "Adult"
                },
                {
                  "0": "30-dagar UL/SL student",
                  "1": "30-dagarsbiljett"
                },
                {
                  "0": "zz30-dagarsbiljett Södertälje Ftg Helt",
                  "1": "30-dagarsbiljett"
                },
                {
                  "0": "zz30-dagarsbiljett Södertälje Ftg Red",
                  "1": "30-dagarsbiljett"
                },
                {
                  "0": "zz30-dagarsbiljett Norrtälje Ftg Helt",
                  "1": "30-dagarsbiljett"
                },
                {
                  "0": "zz30-dagarsbiljett Norrtälje Ftg Red",
                  "1": "30-dagarsbiljett"
                },
                {
                  "0": "zzDjurgårdsfärjan Gruppbiljett",
                  "1": "Enkelbiljett"
                },
                {
                  "0": "30-dagar Arlanda vuxen ftg",
                  "1": "30-dagarsbiljett"
                },
                {
                  "0": "30-dagar Arlanda rabatterad ftg",
                  "1": "30-dagarsbiljett"
                },
                {
                  "0": "zzStudentbiljett 30 dagar ftg",
                  "1": "30-dagarsbiljett"
                },
                {
                  "0": "zzStudentbiljett 90 dagar ftg",
                  "1": "Lång periodbiljett"
                },
                {
                  "0": "Arlanda + SL vuxen endast 1 passage",
                  "1": "Enkelbiljett",
                  "2": "Single"
                },
                {
                  "0": "Arlanda + SL vuxen endast 1 passage",
                  "1": "Enkelbiljett",
                  "2": "Single"
                },
                {
                  "0": "Arlanda + SL rabatterad endast 1 passage",
                  "1": "Enkelbiljett",
                  "2": "Single"
                },
                {
                  "0": "Arlanda + SL rabatterad endast 1 passage",
                  "1": "Enkelbiljett",
                  "2": "Single"
                },
                {
                  "0": "Passagebiljett Arlanda vuxen endast 1 passage",
                  "1": "Enkelbiljett"
                },
                {
                  "0": "Passagebiljett Arlanda vuxen endast 1 passage",
                  "1": "Enkelbiljett"
                },
                {
                  "0": "Godstaxa 20",
                  "1": "Övrigt"
                },
                {
                  "0": "Godstaxa 30",
                  "1": "Övrigt"
                },
                {
                  "0": "Godstaxa 40",
                  "1": "Övrigt"
                },
                {
                  "0": "Godstaxa 50",
                  "1": "Övrigt"
                },
                {
                  "0": "Godstaxa 100",
                  "1": "Övrigt"
                },
                {
                  "0": "30-dagar UL/SL pensionär",
                  "1": "30-dagarsbiljett"
                },
                {
                  "0": "24-timmar UL/SL vuxen",
                  "1": "Kort periodbiljett"
                },
                {
                  "0": "24-timmar UL/SL ungdom",
                  "1": "Kort periodbiljett"
                },
                {
                  "0": "Retur Grp Taxa 1-6",
                  "1": "Enkelbiljett"
                },
                {
                  "0": "30-dagar UL/SL vuxen",
                  "1": "30-dagarsbiljett",
                  "2": "Adult"
                },
                {
                  "0": "30-dagar UL/SL student",
                  "1": "30-dagarsbiljett"
                },
                {
                  "0": "UL 1 2 5+SL Sthlm-Uppsala vuxen",
                  "1": "Enkelbiljett"
                },
                {
                  "0": "UL 2 5+SL Sthlm-Knivsta vuxen",
                  "1": "Enkelbiljett"
                },
                {
                  "0": "UL 1 2 3 5+SL vuxen",
                  "1": "Enkelbiljett"
                },
                {
                  "0": "UL 1 2 3 4 5+SL vuxen",
                  "1": "Enkelbiljett"
                },
                {
                  "0": "UL 1 2+SL vuxen",
                  "1": "Enkelbiljett"
                },
                {
                  "0": "UL 2+SL vuxen",
                  "1": "Enkelbiljett"
                },
                {
                  "0": "UL 3+SL vuxen",
                  "1": "Enkelbiljett"
                },
                {
                  "0": "UL 1 2 3+SL vuxen",
                  "1": "Enkelbiljett"
                },
                {
                  "0": "UL 1 2 5+SL Sthlm-Uppsala ungdom",
                  "1": "Enkelbiljett"
                },
                {
                  "0": "UL 2 5+SL Sthlm-Knivsta ungdom",
                  "1": "Enkelbiljett"
                },
                {
                  "0": "UL 1 2 3 5+SL ungdom",
                  "1": "Enkelbiljett"
                },
                {
                  "0": "UL 2+SL ungdom",
                  "1": "Enkelbiljett"
                },
                {
                  "0": "UL 3+SL ungdom",
                  "1": "Enkelbiljett"
                },
                {
                  "0": "UL 1 2 3+SL ungdom",
                  "1": "Enkelbiljett"
                },
                {
                  "0": "UL 1 2 5 Uppsala vuxen",
                  "1": "Enkelbiljett"
                },
                {
                  "0": "UL 2 5 Knivsta vuxen",
                  "1": "Enkelbiljett"
                },
                {
                  "0": "UL 1 2 3 5 vuxen",
                  "1": "Enkelbiljett"
                },
                {
                  "0": "UL 1 2 3 4 5 vuxen",
                  "1": "Enkelbiljett"
                },
                {
                  "0": "UL 1 2 vuxen",
                  "1": "Enkelbiljett"
                },
                {
                  "0": "UL 2 vuxen",
                  "1": "Enkelbiljett"
                },
                {
                  "0": "UL 3 vuxen",
                  "1": "Enkelbiljett"
                },
                {
                  "0": "UL 1 2 3 vuxen",
                  "1": "Enkelbiljett"
                },
                {
                  "0": "UL 1 2 5 Uppsala ungdom",
                  "1": "Enkelbiljett"
                },
                {
                  "0": "UL 2 5 Knivsta ungdom",
                  "1": "Enkelbiljett"
                },
                {
                  "0": "UL 1 2 3 5 ungdom",
                  "1": "Enkelbiljett"
                },
                {
                  "0": "UL 1 2 3 4 5 ungdom",
                  "1": "Enkelbiljett"
                },
                {
                  "0": "UL 1 2 ungdom",
                  "1": "Enkelbiljett"
                },
                {
                  "0": "UL 2 ungdom",
                  "1": "Enkelbiljett"
                },
                {
                  "0": "UL 3 ungdom",
                  "1": "Enkelbiljett"
                },
                {
                  "0": "UL 1 2 3 ungdom",
                  "1": "Enkelbiljett"
                },
                {
                  "0": "Fritidsbiljett 90 dagar skola",
                  "1": "Ungdomsbiljett"
                },
                {
                  "0": "WAX Ö-biljett 2020",
                  "1": "Lång periodbiljett"
                },
                {
                  "0": "Årsbiljett Jan-Dec FTG- vuxen",
                  "1": "Lång periodbiljett",
                  "2": "Adult"
                },
                {
                  "0": "Årsbiljett Jan-Dec FTG- rabatterad",
                  "1": "Lång periodbiljett",
                  "2": "Adult"
                },
                {
                  "0": "zzZonbiljett-A Helt",
                  "1": "Enkelbiljett"
                },
                {
                  "0": "zzZonbiljett-A Helt",
                  "1": "Enkelbiljett"
                },
                {
                  "0": "zzZonbiljett-A Red",
                  "1": "Enkelbiljett"
                },
                {
                  "0": "zzZonbiljett-A Red",
                  "1": "Enkelbiljett"
                },
                {
                  "0": "zzZonbiljett-B Helt",
                  "1": "Enkelbiljett"
                },
                {
                  "0": "zzZonbiljett-B Helt",
                  "1": "Enkelbiljett"
                },
                {
                  "0": "zzZonbiljett-B Red",
                  "1": "Enkelbiljett"
                },
                {
                  "0": "zzZonbiljett-B Red",
                  "1": "Enkelbiljetter"
                },
                {
                  "0": "zzZonbiljett-C Helt",
                  "1": "Enkelbiljett"
                },
                {
                  "0": "zzZonbiljett-C Helt",
                  "1": "Enkelbiljett"
                },
                {
                  "0": "zzZonbiljett-C Red",
                  "1": "Enkelbiljett"
                },
                {
                  "0": "zzZonbiljett-C Red",
                  "1": "Enkelbiljett"
                },
                {
                  "0": "zzZonbiljett-AB Helt",
                  "1": "Enkelbiljett"
                },
                {
                  "0": "zzZonbiljett-AB Helt",
                  "1": "Enkelbiljett"
                },
                {
                  "0": "zzZonbiljett-AB Red",
                  "1": "Enkelbiljett"
                },
                {
                  "0": "zzZonbiljett-AB Red",
                  "1": "Enkelbiljett"
                },
                {
                  "0": "zzZonbiljett-BC Helt",
                  "1": "Enkelbiljetter"
                },
                {
                  "0": "zzZonbiljett-BC Helt",
                  "1": "Enkelbiljetter"
                },
                {
                  "0": "zzZonbiljett-BC Red",
                  "1": "Enkelbiljetter"
                },
                {
                  "0": "zzZonbiljett-BC Red",
                  "1": "Enkelbiljett"
                },
                {
                  "0": "zzZonbiljett-ABC Helt",
                  "1": "Enkelbiljett"
                },
                {
                  "0": "zzZonbiljett-ABC Helt",
                  "1": "Enkelbiljett"
                },
                {
                  "0": "zzZonbiljett-ABC Red",
                  "1": "Enkelbiljett"
                },
                {
                  "0": "zzZonbiljett-ABC Red",
                  "1": "Enkelbiljett"
                },
                {
                  "0": "Rekrytkort R9",
                  "1": "Övrigt"
                },
                {
                  "0": "Rekrytkort R11",
                  "1": "Övrigt"
                },
                {
                  "0": "24-timmar rabatterad ftg",
                  "1": "Kort periodbiljett"
                },
                {
                  "0": "72-timmar vuxen ftg",
                  "1": "Kort periodbiljett"
                },
                {
                  "0": "72-timmar rabatterad ftg",
                  "1": "Kort periodbiljett"
                },
                {
                  "0": "WAX 30-dagarsbiljett vuxen FTG",
                  "1": "30-dagarsbiljett",
                  "2": "Adult"
                },
                {
                  "0": "WAX 30-dagarsbiljett rabatterad FTG",
                  "1": "30-dagarsbiljett",
                  "2": "Adult"
                },
                {
                  "0": "WAX 5-dagarsbiljett FTG",
                  "1": "Kort periodbiljett"
                },
                {
                  "0": "WAX Ungdomsbiljett 6 månader FTG",
                  "1": "Ungdomsbiljett"
                },
                {
                  "0": "Årsbiljett Ftg vuxen",
                  "1": "Lång periodbiljett",
                  "2": "Adult"
                },
                {
                  "0": "Årsbiljett Ftg rabatterad",
                  "1": "Lång periodbiljett",
                  "2": "Adult"
                },
                {
                  "0": "Gruppbiljett Skola dag",
                  "1": "Ungdomsbiljett"
                },
                {
                  "0": "Gruppbiljett Skola Termin VT",
                  "1": "Ungdomsbiljett"
                },
                {
                  "0": "UL 24 timmar vuxen",
                  "1": "Kort periodbiljett"
                },
                {
                  "0": "UL 24 timmar ungdom",
                  "1": "Kort periodbiljett"
                },
                {
                  "0": "Arlanda + SL vuxen endast 1 passage",
                  "1": "Enkelbiljett",
                  "2": "Single"
                },
                {
                  "0": "Arlanda + SL vuxen endast 1 passage",
                  "1": "Enkelbiljett",
                  "2": "Single"
                },
                {
                  "0": "Arlanda + SL rabatterad endast 1 passage",
                  "1": "Enkelbiljett",
                  "2": "Single"
                },
                {
                  "0": "Arlanda + SL rabatterad endast 1 passage",
                  "1": "Enkelbiljett",
                  "2": "Single"
                },
                {
                  "0": "Passagebiljett Arlanda vuxen endast 1 passage",
                  "1": "Enkelbiljett"
                },
                {
                  "0": "Passagebiljett Arlanda vuxen endast 1 passage",
                  "1": "Enkelbiljett"
                },
                {
                  "0": "Evenemangsbiljett 1 dag vuxen",
                  "1": "Kort periodbiljett"
                },
                {
                  "0": "Evenemangsbiljett 2 dag vuxen",
                  "1": "Kort periodbiljett"
                },
                {
                  "0": "Evenemangsbiljett 3 dag vuxen",
                  "1": "Kort periodbiljett"
                },
                {
                  "0": "Evenemangsbiljett 4 dag vuxen",
                  "1": "Kort periodbiljett"
                },
                {
                  "0": "Evenemangsbiljett 5 dag vuxen",
                  "1": "Kort periodbiljett"
                },
                {
                  "0": "Evenemangsbiljett 6 dag vuxen",
                  "1": "Kort periodbiljett"
                },
                {
                  "0": "Evenemangsbiljett 7 dag vuxen",
                  "1": "Kort periodbiljett"
                },
                {
                  "0": "Evenemangsbiljett 1 dag Pensionär ungdom student",
                  "1": "Eventbiljetter"
                },
                {
                  "0": "Evenemangsbiljett 3 dag Pensionär ungdom student",
                  "1": "Kort periodbiljett"
                },
                {
                  "0": "Evenemangsbiljett 4 dag Pensionär ungdom student",
                  "1": "Kort periodbiljett"
                },
                {
                  "0": "Evenemangsbiljett 5 dag Pensionär ungdom student",
                  "1": "Kort periodbiljett"
                },
                {
                  "0": "Evenemangsbiljett 6 dag Pensionär ungdom student",
                  "1": "Kort periodbiljett"
                },
                {
                  "0": "Evenemangsbiljett 7 dag Pensionär ungdom student",
                  "1": "Kort periodbiljett"
                },
                {
                  "0": "Särskilt återköp biljett",
                  "1": "Enkelbiljett"
                },
                {
                  "0": "Evenemangsbiljett 2 dag Pensionär ungdom student",
                  "1": "Kort periodbiljett"
                },
                {
                  "0": "Skolbiljett UL/SL vårtermin",
                  "1": "Ungdomsbiljett"
                },
                {
                  "0": "Fritidsbiljett UL/SL vårtermin",
                  "1": "Ungdomsbiljett"
                },
                {
                  "0": "WAX Ö-biljett 2019",
                  "1": "Lång periodbiljett"
                },
                {
                  "0": "Skolbiljett UL/SL vårtermin Skola",
                  "1": "Ungdomsbiljett"
                },
                {
                  "0": "Skolbiljett UL/SL vårtermin Skola",
                  "1": "Ungdomsbiljett"
                },
                {
                  "0": "WAX Ö-biljett 2019",
                  "1": "Lång periodbiljett"
                },
                {
                  "0": "Enkelbiljett_vuxen",
                  "1": "Enkelbiljett",
                  "2": "Single"
                },
                {
                  "0": "Enkelbiljett_vuxen",
                  "1": "Enkelbiljett",
                  "2": "Single"
                },
                {
                  "0": "Enkelbiljett_rabatterad",
                  "1": "Enkelbiljett",
                  "2": "Single"
                },
                {
                  "0": "Enkelbiljett_rabatterad",
                  "1": "Enkelbiljett",
                  "2": "Single"
                },
                {
                  "0": "Enkelbiljett vuxen",
                  "1": "Enkelbiljett",
                  "2": "Single"
                },
                {
                  "0": "Enkelbiljett vuxen",
                  "1": "Enkelbiljett",
                  "2": "Single"
                },
                {
                  "0": "Enkelbiljett rabatterad",
                  "1": "Enkelbiljett",
                  "2": "Single"
                },
                {
                  "0": "Enkelbiljett rabatterad",
                  "1": "Enkelbiljett",
                  "2": "Single"
                },
                {
                  "0": "30-dagar vuxen",
                  "1": "30-dagarsbiljett",
                  "2": "Adult"
                },
                {
                  "0": "30-dagar rabatterad",
                  "1": "30-dagarsbiljett",
                  "2": "Adult"
                },
                {
                  "0": "30-dagar vuxen ftg",
                  "1": "30-dagarsbiljett",
                  "2": "Adult"
                },
                {
                  "0": "30-dagar rabatterad ftg",
                  "1": "30-dagarsbiljett",
                  "2": "Adult"
                },
                {
                  "0": "30-dagar Arlanda vuxen",
                  "1": "30-dagarsbiljett",
                  "2": "Adult"
                },
                {
                  "0": "30-dagar Arlanda rabatterad",
                  "1": "30-dagarsbiljett",
                  "2": "Adult"
                },
                {
                  "0": "30-dagar UL/SL vuxen",
                  "1": "30-dagarsbiljett",
                  "2": "Adult"
                },
                {
                  "0": "WAX 30 dagar vuxen",
                  "1": "30-dagarsbiljett",
                  "2": "Adult"
                },
                {
                  "0": "WAX 30 dagar rabatterad",
                  "1": "30-dagarsbiljett",
                  "2": "Adult"
                },
                {
                  "0": "30-dagar UL/SL pensionär",
                  "1": "30-dagarsbiljett"
                },
                {
                  "0": "90-dagar vuxen",
                  "1": "Lång periodbiljett",
                  "2": "Adult"
                },
                {
                  "0": "90-dagar rabatterad",
                  "1": "Lång periodbiljett",
                  "2": "Adult"
                },
                {
                  "0": "90-dagar vuxen ftg",
                  "1": "Lång periodbiljett",
                  "2": "Adult"
                },
                {
                  "0": "90-dagar rabatterad ftg",
                  "1": "Lång periodbiljett",
                  "2": "Adult"
                },
                {
                  "0": "zzSommarbiljett vuxen",
                  "1": "Lång periodbiljett"
                },
                {
                  "0": "zzSommarbiljett rabatterad",
                  "1": "Lång periodbiljett"
                },
                {
                  "0": "zzSommarbiljett vuxen ftg",
                  "1": "Lång periodbiljett"
                },
                {
                  "0": "zzSommarbiljett rabatterad ftg",
                  "1": "Lång periodbiljett"
                },
                {
                  "0": "Årsbiljett Jan-Dec vuxen",
                  "1": "Lång periodbiljett",
                  "2": "Adult"
                },
                {
                  "0": "Årsbiljett Jan-Dec rabatterad",
                  "1": "Lång periodbiljett",
                  "2": "Adult"
                },
                {
                  "0": "Årsbiljett vuxen ftg",
                  "1": "Lång periodbiljett",
                  "2": "Adult"
                },
                {
                  "0": "Årsbiljett rabatterad ftg",
                  "1": "Lång periodbiljett",
                  "2": "Adult"
                },
                {
                  "0": "Årsbiljett vuxen",
                  "1": "Lång periodbiljett",
                  "2": "Adult"
                },
                {
                  "0": "Årsbiljett rabatterad",
                  "1": "Lång periodbiljett",
                  "2": "Adult"
                },
                {
                  "0": "Årsbiljett Jan-Dec FTG- vuxen",
                  "1": "Lång periodbiljett",
                  "2": "Adult"
                },
                {
                  "0": "Årsbiljett Jan-Dec FTG- rabatterad",
                  "1": "Lång periodbiljett",
                  "2": "Adult"
                },
                {
                  "0": "Årsbiljett Ftg vuxen",
                  "1": "Lång periodbiljett",
                  "2": "Adult"
                },
                {
                  "0": "Årsbiljett Ftg rabatterad",
                  "1": "Lång periodbiljett",
                  "2": "Adult"
                },
                {
                  "0": "7-dagar vuxen",
                  "1": "Kort periodbiljett",
                  "2": "Tourist"
                },
                {
                  "0": "7-dagar rabatterad",
                  "1": "Kort periodbiljett",
                  "2": "Tourist"
                },
                {
                  "0": "7-dagar vuxen ftg",
                  "1": "Kort periodbiljett",
                  "2": "Tourist"
                },
                {
                  "0": "7-dagar rabatterad ftg",
                  "1": "Kort periodbiljett",
                  "2": "Tourist"
                },
                {
                  "0": "24-timmar vuxen",
                  "1": "Kort periodbiljett",
                  "2": "Tourist"
                },
                {
                  "0": "24-timmar rabatterad",
                  "1": "Kort periodbiljett",
                  "2": "Tourist"
                },
                {
                  "0": "24-timmar vuxen ftg",
                  "1": "Kort periodbiljett",
                  "2": "Tourist"
                },
                {
                  "0": "24-timmar rabatterad ftg",
                  "1": "Kort periodbiljett"
                },
                {
                  "0": "24-timmar UL/SL vuxen",
                  "1": "Kort periodbiljett"
                },
                {
                  "0": "24-timmar UL/SL ungdom",
                  "1": "Kort periodbiljett"
                },
                {
                  "0": "72-timmar vuxen",
                  "1": "Kort periodbiljett",
                  "2": "Tourist"
                },
                {
                  "0": "72-timmar rabatterad",
                  "1": "Kort periodbiljett",
                  "2": "Tourist"
                },
                {
                  "0": "72-timmar vuxen ftg",
                  "1": "Kort periodbiljett"
                },
                {
                  "0": "72-timmar rabatterad ftg",
                  "1": "Kort periodbiljett"
                },
                {
                  "0": "Skolbiljett vårtermin",
                  "1": "Ungdomsbiljett"
                },
                {
                  "0": "Skolbiljett hösttermin",
                  "1": "Ungdomsbiljett"
                },
                {
                  "0": "Skolbiljett vårtermin skola",
                  "1": "Ungdomsbiljett"
                },
                {
                  "0": "Skolbiljett hösttermin skola",
                  "1": "Ungdomsbiljett"
                },
                {
                  "0": "Läsårsbiljett plus skola",
                  "1": "Ungdomsbiljett"
                },
                {
                  "0": "Läsårsbiljett skola",
                  "1": "Ungdomsbiljett"
                },
                {
                  "0": "Skolbiljett 90 dagar",
                  "1": "Ungdomsbiljett"
                },
                {
                  "0": "Skolbiljett 90 dagar skola",
                  "1": "Ungdomsbiljett"
                },
                {
                  "0": "Skolbiljett 120 dagar",
                  "1": "Ungdomsbiljett"
                },
                {
                  "0": "Skolbiljett 120 dagar skola",
                  "1": "Ungdomsbiljett"
                },
                {
                  "0": "zzSommarlovsbiljett skolungdom",
                  "1": "Ungdomsbiljett"
                },
                {
                  "0": "Fritidsbiljett Hösttermin",
                  "1": "Ungdomsbiljett"
                },
                {
                  "0": "Fritidsbiljett 90 dagar",
                  "1": "Ungdomsbiljett"
                },
                {
                  "0": "Fritidsbiljett vårtermin",
                  "1": "Ungdomsbiljett"
                },
                {
                  "0": "Fritidsbiljett 120 dagar",
                  "1": "Ungdomsbiljett"
                },
                {
                  "0": "Fritidsbiljett 90 dagar skola",
                  "1": "Ungdomsbiljett"
                },
                {
                  "0": "30-dagar UL/SL student",
                  "1": "30-dagarsbiljett"
                },
                {
                  "0": "Arlanda + SL vuxen endast 1 passage",
                  "1": "Enkelbiljett",
                  "2": "Single"
                },
                {
                  "0": "Arlanda + SL vuxen endast 1 passage",
                  "1": "Enkelbiljett",
                  "2": "Single"
                },
                {
                  "0": "Arlanda + SL rabatterad endast 1 passage",
                  "1": "Enkelbiljett",
                  "2": "Single"
                },
                {
                  "0": "Arlanda + SL rabatterad endast 1 passage",
                  "1": "Enkelbiljett",
                  "2": "Single"
                },
                {
                  "0": "30-dagar Arlanda vuxen ftg",
                  "1": "30-dagarsbiljett"
                },
                {
                  "0": "30-dagar Arlanda rabatterad ftg",
                  "1": "30-dagarsbiljett"
                },
                {
                  "0": "WAX 30-dagarsbiljett vuxen FTG",
                  "1": "30-dagarsbiljett",
                  "2": "Adult"
                },
                {
                  "0": "WAX 30-dagarsbiljett rabatterad FTG",
                  "1": "30-dagarsbiljett",
                  "2": "Adult"
                },
                {
                  "0": "Prova på biljett fast startdatum",
                  "1": "Kort periodbiljett"
                },
                {
                  "0": "WAX 5-dagarsbiljett",
                  "1": "Kort periodbiljett"
                },
                {
                  "0": "WAX Ö-biljett 2019",
                  "1": "Lång periodbiljett"
                },
                {
                  "0": "WAX Ungdomsbiljett 6 mån",
                  "1": "Ungdomsbiljett"
                },
                {
                  "0": "WAX 5-dagarsbiljett FTG",
                  "1": "Kort periodbiljett"
                },
                {
                  "0": "WAX Ungdomsbiljett 6 månader FTG",
                  "1": "Ungdomsbiljett"
                },
                {
                  "0": "UL 1 2 5+SL Sthlm-Uppsala vuxen",
                  "1": "Enkelbiljett"
                },
                {
                  "0": "UL 2 5+SL Sthlm-Knivsta vuxen",
                  "1": "Enkelbiljett"
                },
                {
                  "0": "UL 1 2 3 5+SL vuxen",
                  "1": "Enkelbiljett"
                },
                {
                  "0": "UL 1 2+SL vuxen",
                  "1": "Enkelbiljett"
                },
                {
                  "0": "UL 2+SL vuxen",
                  "1": "Enkelbiljett"
                },
                {
                  "0": "UL 3+SL vuxen",
                  "1": "Enkelbiljett"
                },
                {
                  "0": "UL 1 2 3+SL vuxen",
                  "1": "Enkelbiljett"
                },
                {
                  "0": "UL 1 2 5+SL Sthlm-Uppsala ungdom",
                  "1": "Enkelbiljett"
                },
                {
                  "0": "UL 2 5+SL Sthlm-Knivsta ungdom",
                  "1": "Enkelbiljett"
                },
                {
                  "0": "UL 1 2 3 5+SL ungdom",
                  "1": "Enkelbiljett"
                },
                {
                  "0": "UL 1 2 3 4 5+SL ungdom",
                  "1": "Enkelbiljett"
                },
                {
                  "0": "UL 1 2+SL ungdom",
                  "1": "Enkelbiljett"
                },
                {
                  "0": "UL 2+SL ungdom",
                  "1": "Enkelbiljett"
                },
                {
                  "0": "UL 3+SL ungdom",
                  "1": "Enkelbiljett"
                },
                {
                  "0": "UL 1 2 3+SL ungdom",
                  "1": "Enkelbiljett"
                },
                {
                  "0": "UL 1 2 5 Uppsala vuxen",
                  "1": "Enkelbiljett"
                },
                {
                  "0": "UL 2 5 Knivsta vuxen",
                  "1": "Enkelbiljett"
                },
                {
                  "0": "UL 1 2 3 5 vuxen",
                  "1": "Enkelbiljett"
                },
                {
                  "0": "UL 1 2 3 4 5 vuxen",
                  "1": "Enkelbiljett"
                },
                {
                  "0": "UL 1 2 vuxen",
                  "1": "Enkelbiljett"
                },
                {
                  "0": "UL 2 vuxen",
                  "1": "Enkelbiljett"
                },
                {
                  "0": "UL 3 vuxen",
                  "1": "Enkelbiljett"
                },
                {
                  "0": "UL 1 2 3 vuxen",
                  "1": "Enkelbiljett"
                },
                {
                  "0": "UL 1 2 5 Uppsala ungdom",
                  "1": "Enkelbiljett"
                },
                {
                  "0": "UL 2 5 Knivsta ungdom",
                  "1": "Enkelbiljett"
                },
                {
                  "0": "UL 1 2 3 5 ungdom",
                  "1": "Enkelbiljett"
                },
                {
                  "0": "UL 1 2 3 4 5 ungdom",
                  "1": "Enkelbiljett"
                },
                {
                  "0": "UL 1 2 ungdom",
                  "1": "Enkelbiljett"
                },
                {
                  "0": "UL 2 ungdom",
                  "1": "Enkelbiljett"
                },
                {
                  "0": "UL 3 ungdom",
                  "1": "Enkelbiljett"
                },
                {
                  "0": "UL 1 2 3 ungdom",
                  "1": "Enkelbiljett"
                },
                {
                  "0": "UL 24 timmar vuxen",
                  "1": "Kort periodbiljett"
                },
                {
                  "0": "Retur Taxa 1",
                  "1": "Enkelbiljett"
                },
                {
                  "0": "Retur Taxa 2",
                  "1": "Enkelbiljett"
                },
                {
                  "0": "Retur Taxa 3",
                  "1": "Enkelbiljett"
                },
                {
                  "0": "Retur Taxa 4",
                  "1": "Enkelbiljett"
                },
                {
                  "0": "Retur Taxa 5",
                  "1": "Enkelbiljett"
                },
                {
                  "0": "Retur Taxa 6",
                  "1": "Enkelbiljett"
                },
                {
                  "0": "Skolbiljett UL/SL hösttermin",
                  "1": "Ungdomsbiljett"
                },
                {
                  "0": "Skolbiljett UL/SL hösttermin Skola",
                  "1": "Ungdomsbiljett"
                },
                {
                  "0": "Fritidsbiljett UL/SL hösttermin",
                  "1": "Ungdomsbiljett"
                },
                {
                  "0": "Årsbiljett vuxen sep - aug FTG",
                  "1": "Lång periodbiljett",
                  "2": "Adult"
                },
                {
                  "0": "WAX Ö-biljett 2020",
                  "1": "Lång periodbiljett"
                },
                {
                  "0": "Årsbiljett rabatterad sep - aug FTG",
                  "1": "Lång periodbiljett",
                  "2": "Adult"
                },
                {
                  "0": "Fritidsbiljett 120 dagar skola",
                  "1": "Ungdomsbiljett"
                },
                {
                  "0": "Fritidsbiljett HT Skola",
                  "1": "Ungdomsbiljett"
                },
                {
                  "0": "Fritidsbiljett VT Skola",
                  "1": "Ungdomsbiljett"
                },
                {
                  "0": "30-dagar vuxen",
                  "1": "30-dagarsbiljett",
                  "2": "Adult"
                },
                {
                  "0": "30-dagar rabatterad",
                  "1": "30-dagarsbiljett",
                  "2": "Adult"
                },
                {
                  "0": "30-dagar vuxen ftg",
                  "1": "30-dagarsbiljett",
                  "2": "Adult"
                },
                {
                  "0": "30-dagar rabatterad ftg",
                  "1": "30-dagarsbiljett",
                  "2": "Adult"
                },
                {
                  "0": "30-dagar Arlanda vuxen",
                  "1": "30-dagarsbiljett",
                  "2": "Adult"
                },
                {
                  "0": "30-dagar Arlanda rabatterad",
                  "1": "30-dagarsbiljett",
                  "2": "Adult"
                },
                {
                  "0": "30-dagar UL/SL vuxen",
                  "1": "30-dagarsbiljett",
                  "2": "Adult"
                },
                {
                  "0": "30-dagar UL/SL pensionär",
                  "1": "30-dagarsbiljett"
                },
                {
                  "0": "90-dagar vuxen",
                  "1": "Lång periodbiljett",
                  "2": "Adult"
                },
                {
                  "0": "90-dagar rabatterad",
                  "1": "Lång periodbiljett",
                  "2": "Adult"
                },
                {
                  "0": "90-dagar vuxen ftg",
                  "1": "Lång periodbiljett",
                  "2": "Adult"
                },
                {
                  "0": "90-dagar rabatterad ftg",
                  "1": "Lång periodbiljett",
                  "2": "Adult"
                },
                {
                  "0": "Årsbiljett Jan-Dec vuxen",
                  "1": "Lång periodbiljett",
                  "2": "Adult"
                },
                {
                  "0": "Årsbiljett Jan-Dec rabatterad",
                  "1": "Lång periodbiljett",
                  "2": "Adult"
                },
                {
                  "0": "Årsbiljett vuxen ftg",
                  "1": "Lång periodbiljett",
                  "2": "Adult"
                },
                {
                  "0": "Årsbiljett rabatterad ftg",
                  "1": "Lång periodbiljett",
                  "2": "Adult"
                },
                {
                  "0": "Årsbiljett vuxen",
                  "1": "Lång periodbiljett",
                  "2": "Adult"
                },
                {
                  "0": "Årsbiljett rabatterad",
                  "1": "Lång periodbiljett",
                  "2": "Adult"
                },
                {
                  "0": "Årsbiljett Jan-Dec FTG- vuxen",
                  "1": "Lång periodbiljett",
                  "2": "Adult"
                },
                {
                  "0": "Årsbiljett Jan-Dec FTG- rabatterad",
                  "1": "Lång periodbiljett",
                  "2": "Adult"
                },
                {
                  "0": "Årsbiljett Ftg vuxen",
                  "1": "Lång periodbiljett",
                  "2": "Adult"
                },
                {
                  "0": "Årsbiljett Ftg rabatterad",
                  "1": "Lång periodbiljett",
                  "2": "Adult"
                },
                {
                  "0": "7-dagar vuxen",
                  "1": "Kort periodbiljett",
                  "2": "Tourist"
                },
                {
                  "0": "7-dagar rabatterad",
                  "1": "Kort periodbiljett",
                  "2": "Tourist"
                },
                {
                  "0": "7-dagar vuxen ftg",
                  "1": "Kort periodbiljett",
                  "2": "Tourist"
                },
                {
                  "0": "7-dagar rabatterad ftg",
                  "1": "Kort periodbiljett",
                  "2": "Tourist"
                },
                {
                  "0": "24-timmar vuxen",
                  "1": "Kort periodbiljett",
                  "2": "Tourist"
                },
                {
                  "0": "24-timmar rabatterad",
                  "1": "Kort periodbiljett",
                  "2": "Tourist"
                },
                {
                  "0": "24-timmar vuxen ftg",
                  "1": "Kort periodbiljett",
                  "2": "Tourist"
                },
                {
                  "0": "24-timmar rabatterad ftg",
                  "1": "Kort periodbiljett"
                },
                {
                  "0": "24-timmar UL/SL ungdom",
                  "1": "Kort periodbiljett"
                },
                {
                  "0": "72-timmar vuxen",
                  "1": "Kort periodbiljett",
                  "2": "Tourist"
                },
                {
                  "0": "72-timmar rabatterad",
                  "1": "Kort periodbiljett",
                  "2": "Tourist"
                },
                {
                  "0": "72-timmar vuxen ftg",
                  "1": "Kort periodbiljett"
                },
                {
                  "0": "72-timmar rabatterad ftg",
                  "1": "Kort periodbiljett"
                },
                {
                  "0": "Skolbiljett vårtermin",
                  "1": "Ungdomsbiljett"
                },
                {
                  "0": "Skolbiljett hösttermin",
                  "1": "Ungdomsbiljett"
                },
                {
                  "0": "Skolbiljett vårtermin skola",
                  "1": "Ungdomsbiljett"
                },
                {
                  "0": "Skolbiljett UL/SL vårtermin",
                  "1": "Ungdomsbiljett"
                },
                {
                  "0": "Skolbiljett UL/SL vårtermin Skola",
                  "1": "Ungdomsbiljett"
                },
                {
                  "0": "Skolbiljett hösttermin skola",
                  "1": "Ungdomsbiljett"
                },
                {
                  "0": "Skolbiljett UL/SL hösttermin",
                  "1": "Ungdomsbiljett"
                },
                {
                  "0": "Skolbiljett UL/SL hösttermin Skola",
                  "1": "Ungdomsbiljett"
                },
                {
                  "0": "Läsårsbiljett plus skola",
                  "1": "Ungdomsbiljett"
                },
                {
                  "0": "Läsårsbiljett skola",
                  "1": "Ungdomsbiljett"
                },
                {
                  "0": "Skolbiljett 90 dagar",
                  "1": "Ungdomsbiljett"
                },
                {
                  "0": "Skolbiljett 90 dagar skola",
                  "1": "Ungdomsbiljett"
                },
                {
                  "0": "Skolbiljett 120 dagar",
                  "1": "Ungdomsbiljett"
                },
                {
                  "0": "Skolbiljett 120 dagar skola",
                  "1": "Ungdomsbiljett"
                },
                {
                  "0": "Fritidsbiljett Hösttermin",
                  "1": "Ungdomsbiljett"
                },
                {
                  "0": "Fritidsbiljett 90 dagar",
                  "1": "Ungdomsbiljett"
                },
                {
                  "0": "Fritidsbiljett vårtermin",
                  "1": "Ungdomsbiljett"
                },
                {
                  "0": "Fritidsbiljett 120 dagar",
                  "1": "Ungdomsbiljett"
                },
                {
                  "0": "Fritidsbiljett UL/SL vårtermin",
                  "1": "Ungdomsbiljett"
                },
                {
                  "0": "Fritidsbiljett UL/SL hösttermin",
                  "1": "Ungdomsbiljett"
                },
                {
                  "0": "Fritidsbiljett 90 dagar skola",
                  "1": "Ungdomsbiljett"
                },
                {
                  "0": "Fritidsbiljett 120 dagar skola",
                  "1": "Ungdomsbiljett"
                },
                {
                  "0": "Fritidsbiljett HT Skola",
                  "1": "Ungdomsbiljett"
                },
                {
                  "0": "Fritidsbiljett VT Skola",
                  "1": "Ungdomsbiljett"
                },
                {
                  "0": "30-dagar UL/SL student",
                  "1": "30-dagarsbiljett"
                },
                {
                  "0": "Arlanda + SL vuxen endast 1 passage",
                  "1": "Enkelbiljett",
                  "2": "Single"
                },
                {
                  "0": "Arlanda + SL vuxen endast 1 passage",
                  "1": "Enkelbiljett",
                  "2": "Single"
                },
                {
                  "0": "Arlanda + SL rabatterad endast 1 passage",
                  "1": "Enkelbiljett",
                  "2": "Single"
                },
                {
                  "0": "Arlanda + SL rabatterad endast 1 passage",
                  "1": "Enkelbiljett",
                  "2": "Single"
                },
                {
                  "0": "30-dagar Arlanda vuxen ftg",
                  "1": "30-dagarsbiljett"
                },
                {
                  "0": "30-dagar Arlanda rabatterad ftg",
                  "1": "30-dagarsbiljett"
                },
                {
                  "0": "Evenemangsbiljett 1 dag vuxen",
                  "1": "Kort periodbiljett"
                },
                {
                  "0": "Evenemangsbiljett 2 dag vuxen",
                  "1": "Kort periodbiljett"
                },
                {
                  "0": "Evenemangsbiljett 3 dag vuxen",
                  "1": "Kort periodbiljett"
                },
                {
                  "0": "Evenemangsbiljett 4 dag vuxen",
                  "1": "Kort periodbiljett"
                },
                {
                  "0": "Evenemangsbiljett 5 dag vuxen",
                  "1": "Kort periodbiljett"
                },
                {
                  "0": "Evenemangsbiljett 6 dag vuxen",
                  "1": "Kort periodbiljett"
                },
                {
                  "0": "Evenemangsbiljett 7 dag vuxen",
                  "1": "Kort periodbiljett"
                },
                {
                  "0": "Evenemangsbiljett 1 dag Pensionär ungdom student",
                  "1": "Eventbiljetter"
                },
                {
                  "0": "Evenemangsbiljett 2 dag Pensionär ungdom student",
                  "1": "Kort periodbiljett"
                },
                {
                  "0": "Evenemangsbiljett 3 dag Pensionär ungdom student",
                  "1": "Kort periodbiljett"
                },
                {
                  "0": "Evenemangsbiljett 4 dag Pensionär ungdom student",
                  "1": "Kort periodbiljett"
                },
                {
                  "0": "Evenemangsbiljett 5 dag Pensionär ungdom student",
                  "1": "Kort periodbiljett"
                },
                {
                  "0": "Evenemangsbiljett 6 dag Pensionär ungdom student",
                  "1": "Kort periodbiljett"
                },
                {
                  "0": "Evenemangsbiljett 7 dag Pensionär ungdom student",
                  "1": "Kort periodbiljett"
                },
                {
                  "0": "UL 1 2 5+SL Sthlm-Uppsala vuxen",
                  "1": "Enkelbiljett"
                },
                {
                  "0": "UL 2 5+SL Sthlm-Knivsta vuxen",
                  "1": "Enkelbiljett"
                },
                {
                  "0": "UL 1 2 3 5+SL vuxen",
                  "1": "Enkelbiljett"
                },
                {
                  "0": "UL 1 2 3 4 5+SL vuxen",
                  "1": "Enkelbiljett"
                },
                {
                  "0": "UL 1 2+SL vuxen",
                  "1": "Enkelbiljett"
                },
                {
                  "0": "UL 2+SL vuxen",
                  "1": "Enkelbiljett"
                },
                {
                  "0": "UL 3+SL vuxen",
                  "1": "Enkelbiljett"
                },
                {
                  "0": "UL 1 2 3+SL vuxen",
                  "1": "Enkelbiljett"
                },
                {
                  "0": "UL 1 2 5+SL Sthlm-Uppsala ungdom",
                  "1": "Enkelbiljett"
                },
                {
                  "0": "UL 2 5+SL Sthlm-Knivsta ungdom",
                  "1": "Enkelbiljett"
                },
                {
                  "0": "UL 1 2 3 5+SL ungdom",
                  "1": "Enkelbiljett"
                },
                {
                  "0": "UL 1 2 3 4 5+SL ungdom",
                  "1": "Enkelbiljett"
                },
                {
                  "0": "UL 1 2+SL ungdom",
                  "1": "Enkelbiljett"
                },
                {
                  "0": "UL 2+SL ungdom",
                  "1": "Enkelbiljett"
                },
                {
                  "0": "UL 3+SL ungdom",
                  "1": "Enkelbiljett"
                },
                {
                  "0": "UL 1 2 3+SL ungdom",
                  "1": "Enkelbiljett"
                },
                {
                  "0": "UL 1 2 5 Uppsala vuxen",
                  "1": "Enkelbiljett"
                },
                {
                  "0": "UL 2 5 Knivsta vuxen",
                  "1": "Enkelbiljett"
                },
                {
                  "0": "UL 1 2 3 5 vuxen",
                  "1": "Enkelbiljett"
                },
                {
                  "0": "UL 1 2 3 4 5 vuxen",
                  "1": "Enkelbiljett"
                },
                {
                  "0": "UL 1 2 vuxen",
                  "1": "Enkelbiljett"
                },
                {
                  "0": "UL 2 vuxen",
                  "1": "Enkelbiljett"
                },
                {
                  "0": "UL 3 vuxen",
                  "1": "Enkelbiljett"
                },
                {
                  "0": "UL 1 2 3 vuxen",
                  "1": "Enkelbiljett"
                },
                {
                  "0": "UL 1 2 5 Uppsala ungdom",
                  "1": "Enkelbiljett"
                },
                {
                  "0": "UL 2 5 Knivsta ungdom",
                  "1": "Enkelbiljett"
                },
                {
                  "0": "UL 1 2 3 5 ungdom",
                  "1": "Enkelbiljett"
                },
                {
                  "0": "UL 1 2 3 4 5 ungdom",
                  "1": "Enkelbiljett"
                },
                {
                  "0": "UL 1 2 ungdom",
                  "1": "Enkelbiljett"
                },
                {
                  "0": "UL 2 ungdom",
                  "1": "Enkelbiljett"
                },
                {
                  "0": "UL 3 ungdom",
                  "1": "Enkelbiljett"
                },
                {
                  "0": "UL 1 2 3 ungdom",
                  "1": "Enkelbiljett"
                },
                {
                  "0": "UL 24 timmar vuxen",
                  "1": "Kort periodbiljett"
                },
                {
                  "0": "UL 24 timmar ungdom",
                  "1": "Kort periodbiljett"
                },
                {
                  "0": "Enkelbiljett_vuxen",
                  "1": "Enkelbiljett",
                  "2": "Single"
                },
                {
                  "0": "Enkelbiljett_vuxen",
                  "1": "Enkelbiljett",
                  "2": "Single"
                },
                {
                  "0": "Enkelbiljett_rabatterad",
                  "1": "Enkelbiljett",
                  "2": "Single"
                },
                {
                  "0": "Enkelbiljett_rabatterad",
                  "1": "Enkelbiljett",
                  "2": "Single"
                },
                {
                  "0": "Enkelbiljett vuxen",
                  "1": "Enkelbiljett",
                  "2": "Single"
                },
                {
                  "0": "Enkelbiljett vuxen",
                  "1": "Enkelbiljett",
                  "2": "Single"
                },
                {
                  "0": "Enkelbiljett rabatterad",
                  "1": "Enkelbiljett",
                  "2": "Single"
                },
                {
                  "0": "Enkelbiljett rabatterad",
                  "1": "Enkelbiljett",
                  "2": "Single"
                },
                {
                  "0": "Årsbiljett vuxen sep - aug FTG",
                  "1": "Lång periodbiljett",
                  "2": "Adult"
                },
                {
                  "0": "Årsbiljett rabatterad sep - aug FTG",
                  "1": "Lång periodbiljett",
                  "2": "Adult"
                },
                {
                  "0": "Gruppbiljett Skola Termin HT",
                  "1": "Ungdomsbiljett"
                },
                {
                  "0": "VUX",
                  "1": "Enkelbiljetter",
                  "2": "Single"
                },
                {
                  "0": "RAB",
                  "1": "Enkelbiljetter",
                  "2": "Single"
                },
                {
                  "0": "VSLUL125",
                  "1": "Enkelbiljetter",
                  "2": "Single"
                },
                {
                  "0": "USLUL125",
                  "1": "Enkelbiljetter",
                  "2": "Single"
                },
                {
                  "0": "VSLUL25",
                  "1": "Enkelbiljetter",
                  "2": "Single"
                },
                {
                  "0": "USLUL25",
                  "1": "Enkelbiljetter",
                  "2": "Single"
                },
                {
                  "0": "VUL125",
                  "1": "Enkelbiljetter"
                },
                {
                  "0": "UUL125",
                  "1": "Enkelbiljetter"
                },
                {
                  "0": "VUL25",
                  "1": "Enkelbiljetter"
                },
                {
                  "0": "UUL25",
                  "1": "Enkelbiljetter"
                },
                {
                  "0": "VUXP",
                  "1": "Enkelbiljetter",
                  "2": "Single"
                },
                {
                  "0": "RABP",
                  "1": "Enkelbiljetter",
                  "2": "Single"
                },
                {
                  "0": "VP",
                  "1": "Enkelbiljetter"
                },
                {
                  "0": "Sommarbiljett 2022",
                  "1": "Ungdomsbiljett"
                },
                {
                  "0": "Prova på biljett fast startdatum",
                  "1": "Kort periodbiljett"
                },
                {
                  "0": "Evenemangsbiljett 1 dag Pensionär ungdom student",
                  "1": "Kort periodbiljett"
                },
                {
                  "0": "30-dagar vuxen",
                  "1": "30-dagarsbiljett",
                  "2": "Adult"
                },
                {
                  "0": "30-dagar rabatterad",
                  "1": "30-dagarsbiljett",
                  "2": "Adult"
                },
                {
                  "0": "30-dagar vuxen ftg",
                  "1": "30-dagarsbiljett",
                  "2": "Adult"
                },
                {
                  "0": "30-dagar rabatterad ftg",
                  "1": "30-dagarsbiljett",
                  "2": "Adult"
                },
                {
                  "0": "30-dagar Arlanda vuxen",
                  "1": "30-dagarsbiljett",
                  "2": "Adult"
                },
                {
                  "0": "30-dagar Arlanda rabatterad",
                  "1": "30-dagarsbiljett",
                  "2": "Adult"
                },
                {
                  "0": "30-dagar UL/SL vuxen",
                  "1": "30-dagarsbiljett",
                  "2": "Adult"
                },
                {
                  "0": "30-dagar UL/SL pensionär",
                  "1": "30-dagarsbiljett"
                },
                {
                  "0": "90-dagar vuxen",
                  "1": "Lång periodbiljett",
                  "2": "Adult"
                },
                {
                  "0": "90-dagar rabatterad",
                  "1": "Lång periodbiljett",
                  "2": "Adult"
                },
                {
                  "0": "90-dagar vuxen ftg",
                  "1": "Lång periodbiljett",
                  "2": "Adult"
                },
                {
                  "0": "90-dagar rabatterad ftg",
                  "1": "Lång periodbiljett",
                  "2": "Adult"
                },
                {
                  "0": "Årsbiljett Jan-Dec vuxen",
                  "1": "Lång periodbiljett",
                  "2": "Adult"
                },
                {
                  "0": "Årsbiljett Jan-Dec rabatterad",
                  "1": "Lång periodbiljett",
                  "2": "Adult"
                },
                {
                  "0": "Årsbiljett vuxen ftg",
                  "1": "Lång periodbiljett",
                  "2": "Adult"
                },
                {
                  "0": "Årsbiljett rabatterad ftg",
                  "1": "Lång periodbiljett",
                  "2": "Adult"
                },
                {
                  "0": "Årsbiljett vuxen",
                  "1": "Lång periodbiljett",
                  "2": "Adult"
                },
                {
                  "0": "Årsbiljett rabatterad",
                  "1": "Lång periodbiljett",
                  "2": "Adult"
                },
                {
                  "0": "Årsbiljett Jan-Dec FTG- vuxen",
                  "1": "Lång periodbiljett",
                  "2": "Adult"
                },
                {
                  "0": "Årsbiljett Jan-Dec FTG- rabatterad",
                  "1": "Lång periodbiljett",
                  "2": "Adult"
                },
                {
                  "0": "Årsbiljett Ftg vuxen",
                  "1": "Lång periodbiljett",
                  "2": "Adult"
                },
                {
                  "0": "Årsbiljett Ftg rabatterad",
                  "1": "Lång periodbiljett",
                  "2": "Adult"
                },
                {
                  "0": "7-dagar vuxen",
                  "1": "Kort periodbiljett",
                  "2": "Tourist"
                },
                {
                  "0": "7-dagar rabatterad",
                  "1": "Kort periodbiljett",
                  "2": "Tourist"
                },
                {
                  "0": "7-dagar vuxen ftg",
                  "1": "Kort periodbiljett",
                  "2": "Tourist"
                },
                {
                  "0": "7-dagar rabatterad ftg",
                  "1": "Kort periodbiljett",
                  "2": "Tourist"
                },
                {
                  "0": "24-timmar vuxen",
                  "1": "Kort periodbiljett",
                  "2": "Tourist"
                },
                {
                  "0": "24-timmar rabatterad",
                  "1": "Kort periodbiljett",
                  "2": "Tourist"
                },
                {
                  "0": "24-timmar vuxen ftg",
                  "1": "Kort periodbiljett",
                  "2": "Tourist"
                },
                {
                  "0": "24-timmar rabatterad ftg",
                  "1": "Kort periodbiljett"
                },
                {
                  "0": "24-timmar UL/SL vuxen",
                  "1": "Kort periodbiljett"
                },
                {
                  "0": "24-timmar UL/SL ungdom",
                  "1": "Kort periodbiljett"
                },
                {
                  "0": "72-timmar vuxen",
                  "1": "Kort periodbiljett",
                  "2": "Tourist"
                },
                {
                  "0": "72-timmar rabatterad",
                  "1": "Kort periodbiljett",
                  "2": "Tourist"
                },
                {
                  "0": "72-timmar vuxen ftg",
                  "1": "Kort periodbiljett"
                },
                {
                  "0": "72-timmar rabatterad ftg",
                  "1": "Kort periodbiljett"
                },
                {
                  "0": "Skolbiljett vårtermin",
                  "1": "Ungdomsbiljett"
                },
                {
                  "0": "Skolbiljett hösttermin",
                  "1": "Ungdomsbiljett"
                },
                {
                  "0": "Skolbiljett vårtermin skola",
                  "1": "Ungdomsbiljett"
                },
                {
                  "0": "Skolbiljett UL/SL vårtermin",
                  "1": "Ungdomsbiljett"
                },
                {
                  "0": "Skolbiljett UL/SL vårtermin Skola",
                  "1": "Ungdomsbiljett"
                },
                {
                  "0": "Skolbiljett hösttermin skola",
                  "1": "Ungdomsbiljett"
                },
                {
                  "0": "Skolbiljett UL/SL hösttermin",
                  "1": "Ungdomsbiljett"
                },
                {
                  "0": "Skolbiljett UL/SL hösttermin Skola",
                  "1": "Ungdomsbiljett"
                },
                {
                  "0": "Läsårsbiljett plus skola",
                  "1": "Ungdomsbiljett"
                },
                {
                  "0": "Läsårsbiljett skola",
                  "1": "Ungdomsbiljett"
                },
                {
                  "0": "Skolbiljett 90 dagar",
                  "1": "Ungdomsbiljett"
                },
                {
                  "0": "Skolbiljett 90 dagar skola",
                  "1": "Ungdomsbiljett"
                },
                {
                  "0": "Skolbiljett 120 dagar",
                  "1": "Ungdomsbiljett"
                },
                {
                  "0": "Skolbiljett 120 dagar skola",
                  "1": "Ungdomsbiljett"
                },
                {
                  "0": "Fritidsbiljett Hösttermin",
                  "1": "Ungdomsbiljett"
                },
                {
                  "0": "Fritidsbiljett 90 dagar",
                  "1": "Ungdomsbiljett"
                },
                {
                  "0": "Fritidsbiljett vårtermin",
                  "1": "Ungdomsbiljett"
                },
                {
                  "0": "Fritidsbiljett 120 dagar",
                  "1": "Ungdomsbiljett"
                },
                {
                  "0": "Fritidsbiljett UL/SL vårtermin",
                  "1": "Ungdomsbiljett"
                },
                {
                  "0": "Fritidsbiljett UL/SL hösttermin",
                  "1": "Ungdomsbiljett"
                },
                {
                  "0": "Fritidsbiljett 90 dagar skola",
                  "1": "Ungdomsbiljett"
                },
                {
                  "0": "Fritidsbiljett 120 dagar skola",
                  "1": "Ungdomsbiljett"
                },
                {
                  "0": "Fritidsbiljett HT Skola",
                  "1": "Ungdomsbiljett"
                },
                {
                  "0": "Fritidsbiljett VT Skola",
                  "1": "Ungdomsbiljett"
                },
                {
                  "0": "30-dagar UL/SL student",
                  "1": "30-dagarsbiljett"
                },
                {
                  "0": "Arlanda + SL vuxen endast 1 passage",
                  "1": "Enkelbiljett",
                  "2": "Single"
                },
                {
                  "0": "Arlanda + SL vuxen endast 1 passage",
                  "1": "Enkelbiljett",
                  "2": "Single"
                },
                {
                  "0": "Arlanda + SL rabatterad endast 1 passage",
                  "1": "Enkelbiljett",
                  "2": "Single"
                },
                {
                  "0": "Arlanda + SL rabatterad endast 1 passage",
                  "1": "Enkelbiljett",
                  "2": "Single"
                },
                {
                  "0": "30-dagar Arlanda vuxen ftg",
                  "1": "30-dagarsbiljett"
                },
                {
                  "0": "30-dagar Arlanda rabatterad ftg",
                  "1": "30-dagarsbiljett"
                },
                {
                  "0": "Evenemangsbiljett 2 dag vuxen",
                  "1": "Kort periodbiljett"
                },
                {
                  "0": "Evenemangsbiljett 3 dag vuxen",
                  "1": "Kort periodbiljett"
                },
                {
                  "0": "Evenemangsbiljett 4 dag vuxen",
                  "1": "Kort periodbiljett"
                },
                {
                  "0": "Evenemangsbiljett 5 dag vuxen",
                  "1": "Kort periodbiljett"
                },
                {
                  "0": "Evenemangsbiljett 6 dag vuxen",
                  "1": "Kort periodbiljett"
                },
                {
                  "0": "Evenemangsbiljett 7 dag vuxen",
                  "1": "Kort periodbiljett"
                },
                {
                  "0": "Evenemangsbiljett 2 dag Pensionär ungdom student",
                  "1": "Kort periodbiljett"
                },
                {
                  "0": "Evenemangsbiljett 3 dag Pensionär ungdom student",
                  "1": "Kort periodbiljett"
                },
                {
                  "0": "Evenemangsbiljett 4 dag Pensionär ungdom student",
                  "1": "Kort periodbiljett"
                },
                {
                  "0": "Evenemangsbiljett 5 dag Pensionär ungdom student",
                  "1": "Kort periodbiljett"
                },
                {
                  "0": "Evenemangsbiljett 6 dag Pensionär ungdom student",
                  "1": "Kort periodbiljett"
                },
                {
                  "0": "Evenemangsbiljett 7 dag Pensionär ungdom student",
                  "1": "Kort periodbiljett"
                },
                {
                  "0": "UL 1 2 5+SL Sthlm-Uppsala vuxen",
                  "1": "Enkelbiljett"
                },
                {
                  "0": "UL 2 5+SL Sthlm-Knivsta vuxen",
                  "1": "Enkelbiljett"
                },
                {
                  "0": "UL 1 2 3 5+SL vuxen",
                  "1": "Enkelbiljett"
                },
                {
                  "0": "UL 1 2 3 4 5+SL vuxen",
                  "1": "Enkelbiljett"
                },
                {
                  "0": "UL 1 2+SL vuxen",
                  "1": "Enkelbiljett"
                },
                {
                  "0": "UL 2+SL vuxen",
                  "1": "Enkelbiljett"
                },
                {
                  "0": "UL 3+SL vuxen",
                  "1": "Enkelbiljett"
                },
                {
                  "0": "UL 1 2 3+SL vuxen",
                  "1": "Enkelbiljett"
                },
                {
                  "0": "UL 1 2 5+SL Sthlm-Uppsala ungdom",
                  "1": "Enkelbiljett"
                },
                {
                  "0": "UL 2 5+SL Sthlm-Knivsta ungdom",
                  "1": "Enkelbiljett"
                },
                {
                  "0": "UL 1 2 3 5+SL ungdom",
                  "1": "Enkelbiljett"
                },
                {
                  "0": "UL 1 2 3 4 5+SL ungdom",
                  "1": "Enkelbiljett"
                },
                {
                  "0": "UL 1 2+SL ungdom",
                  "1": "Enkelbiljett"
                },
                {
                  "0": "UL 2+SL ungdom",
                  "1": "Enkelbiljett"
                },
                {
                  "0": "UL 3+SL ungdom",
                  "1": "Enkelbiljett"
                },
                {
                  "0": "UL 1 2 3+SL ungdom",
                  "1": "Enkelbiljett"
                },
                {
                  "0": "UL 1 2 5 Uppsala vuxen",
                  "1": "Enkelbiljett"
                },
                {
                  "0": "UL 2 5 Knivsta vuxen",
                  "1": "Enkelbiljett"
                },
                {
                  "0": "UL 1 2 3 5 vuxen",
                  "1": "Enkelbiljett"
                },
                {
                  "0": "UL 1 2 3 4 5 vuxen",
                  "1": "Enkelbiljett"
                },
                {
                  "0": "UL 1 2 vuxen",
                  "1": "Enkelbiljett"
                },
                {
                  "0": "UL 2 vuxen",
                  "1": "Enkelbiljett"
                },
                {
                  "0": "UL 3 vuxen",
                  "1": "Enkelbiljett"
                },
                {
                  "0": "UL 1 2 3 vuxen",
                  "1": "Enkelbiljett"
                },
                {
                  "0": "UL 1 2 5 Uppsala ungdom",
                  "1": "Enkelbiljett"
                },
                {
                  "0": "UL 2 5 Knivsta ungdom",
                  "1": "Enkelbiljett"
                },
                {
                  "0": "UL 1 2 3 5 ungdom",
                  "1": "Enkelbiljett"
                },
                {
                  "0": "UL 1 2 3 4 5 ungdom",
                  "1": "Enkelbiljett"
                },
                {
                  "0": "UL 1 2 ungdom",
                  "1": "Enkelbiljett"
                },
                {
                  "0": "UL 2 ungdom",
                  "1": "Enkelbiljett"
                },
                {
                  "0": "UL 3 ungdom",
                  "1": "Enkelbiljett"
                },
                {
                  "0": "UL 1 2 3 ungdom",
                  "1": "Enkelbiljett"
                },
                {
                  "0": "UL 24 timmar vuxen",
                  "1": "Kort periodbiljett"
                },
                {
                  "0": "UL 24 timmar ungdom",
                  "1": "Kort periodbiljett"
                },
                {
                  "0": "Enkelbiljett_vuxen",
                  "1": "Enkelbiljett",
                  "2": "Single"
                },
                {
                  "0": "Enkelbiljett_vuxen",
                  "1": "Enkelbiljett",
                  "2": "Single"
                },
                {
                  "0": "Enkelbiljett_rabatterad",
                  "1": "Enkelbiljett",
                  "2": "Single"
                },
                {
                  "0": "Enkelbiljett_rabatterad",
                  "1": "Enkelbiljett",
                  "2": "Single"
                },
                {
                  "0": "Enkelbiljett vuxen",
                  "1": "Enkelbiljett",
                  "2": "Single"
                },
                {
                  "0": "Enkelbiljett vuxen",
                  "1": "Enkelbiljett",
                  "2": "Single"
                },
                {
                  "0": "Enkelbiljett rabatterad",
                  "1": "Enkelbiljett",
                  "2": "Single"
                },
                {
                  "0": "Enkelbiljett rabatterad",
                  "1": "Enkelbiljett",
                  "2": "Single"
                },
                {
                  "0": "Årsbiljett vuxen sep - aug FTG",
                  "1": "Lång periodbiljett",
                  "2": "Adult"
                },
                {
                  "0": "Årsbiljett rabatterad sep - aug FTG",
                  "1": "Lång periodbiljett",
                  "2": "Adult"
                },
                {
                  "0": "Årsbiljett vuxen jan - dec FTG",
                  "1": "Lång periodbiljett",
                  "2": "Adult"
                },
                {
                  "0": "Årsbiljett vuxen feb - jan FTG",
                  "1": "Lång periodbiljett",
                  "2": "Adult"
                },
                {
                  "0": "Årsbiljett vuxen mar - feb FTG",
                  "1": "Lång periodbiljett",
                  "2": "Adult"
                },
                {
                  "0": "Årsbiljett vuxen apr - mar FTG",
                  "1": "Lång periodbiljett",
                  "2": "Adult"
                },
                {
                  "0": "Årsbiljett vuxen maj - apr FTG",
                  "1": "Lång periodbiljett",
                  "2": "Adult"
                },
                {
                  "0": "Årsbiljett vuxen jun - maj FTG",
                  "1": "Lång periodbiljett",
                  "2": "Adult"
                },
                {
                  "0": "Årsbiljett vuxen jul - jun FTG",
                  "1": "Lång periodbiljett",
                  "2": "Adult"
                },
                {
                  "0": "Årsbiljett vuxen aug - jul FTG",
                  "1": "Lång periodbiljett",
                  "2": "Adult"
                },
                {
                  "0": "Årsbiljett vuxen okt - sep FTG",
                  "1": "Lång periodbiljett",
                  "2": "Adult"
                },
                {
                  "0": "Årsbiljett vuxen nov - okt FTG",
                  "1": "Lång periodbiljett",
                  "2": "Adult"
                },
                {
                  "0": "Årsbiljett vuxen dec - nov FTG",
                  "1": "Lång periodbiljett",
                  "2": "Adult"
                },
                {
                  "0": "Årsbiljett rabatterad jan - dec FTG",
                  "1": "Lång periodbiljett",
                  "2": "Adult"
                },
                {
                  "0": "Årsbiljett rabatterad feb - jan FTG",
                  "1": "Lång periodbiljett",
                  "2": "Adult"
                },
                {
                  "0": "Årsbiljett rabatterad mar - feb FTG",
                  "1": "Lång periodbiljett",
                  "2": "Adult"
                },
                {
                  "0": "Årsbiljett rabatterad apr - mar FTG",
                  "1": "Lång periodbiljett",
                  "2": "Adult"
                },
                {
                  "0": "Årsbiljett rabatterad maj - apr FTG",
                  "1": "Lång periodbiljett",
                  "2": "Adult"
                },
                {
                  "0": "Årsbiljett rabatterad jun - maj FTG",
                  "1": "Lång periodbiljett",
                  "2": "Adult"
                },
                {
                  "0": "Årsbiljett rabatterad jul - jun FTG",
                  "1": "Lång periodbiljett",
                  "2": "Adult"
                },
                {
                  "0": "Årsbiljett rabatterad aug - jul FTG",
                  "1": "Lång periodbiljett",
                  "2": "Adult"
                },
                {
                  "0": "Årsbiljett rabatterad okt - sep FTG",
                  "1": "Lång periodbiljett",
                  "2": "Adult"
                },
                {
                  "0": "Årsbiljett rabatterad nov - okt FTG",
                  "1": "Lång periodbiljett",
                  "2": "Adult"
                },
                {
                  "0": "Årsbiljett rabatterad dec - nov FTG",
                  "1": "Lång periodbiljett",
                  "2": "Adult"
                },
                {
                  "0": "Årsbiljett vuxen apr - mar FTG",
                  "1": "Lång periodbiljett",
                  "2": "Adult"
                },
                {
                  "0": "Årsbiljett vuxen maj - apr FTG",
                  "1": "Lång periodbiljett",
                  "2": "Adult"
                },
                {
                  "0": "Årsbiljett vuxen jun - maj FTG",
                  "1": "Lång periodbiljett",
                  "2": "Adult"
                },
                {
                  "0": "Årsbiljett vuxen jul - jun FTG",
                  "1": "Lång periodbiljett",
                  "2": "Adult"
                },
                {
                  "0": "Årsbiljett vuxen aug - jul FTG",
                  "1": "Lång periodbiljett",
                  "2": "Adult"
                },
                {
                  "0": "Årsbiljett vuxen sep - aug FTG",
                  "1": "Lång periodbiljett",
                  "2": "Adult"
                },
                {
                  "0": "Årsbiljett vuxen okt - sep FTG",
                  "1": "Lång periodbiljett",
                  "2": "Adult"
                },
                {
                  "0": "Årsbiljett vuxen nov - okt FTG",
                  "1": "Lång periodbiljett",
                  "2": "Adult"
                },
                {
                  "0": "Årsbiljett vuxen dec - nov FTG",
                  "1": "Lång periodbiljett",
                  "2": "Adult"
                },
                {
                  "0": "Årsbiljett rabatterad apr - mar FTG",
                  "1": "Lång periodbiljett",
                  "2": "Adult"
                },
                {
                  "0": "Årsbiljett rabatterad maj - apr FTG",
                  "1": "Lång periodbiljett",
                  "2": "Adult"
                },
                {
                  "0": "Årsbiljett rabatterad jun - maj FTG",
                  "1": "Lång periodbiljett",
                  "2": "Adult"
                },
                {
                  "0": "Årsbiljett rabatterad jul - jun FTG",
                  "1": "Lång periodbiljett",
                  "2": "Adult"
                },
                {
                  "0": "Årsbiljett rabatterad aug - jul FTG",
                  "1": "Lång periodbiljett",
                  "2": "Adult"
                },
                {
                  "0": "Årsbiljett rabatterad sep - aug FTG",
                  "1": "Lång periodbiljett",
                  "2": "Adult"
                },
                {
                  "0": "Årsbiljett rabatterad okt - sep FTG",
                  "1": "Lång periodbiljett",
                  "2": "Adult"
                },
                {
                  "0": "Årsbiljett rabatterad nov - okt FTG",
                  "1": "Lång periodbiljett",
                  "2": "Adult"
                },
                {
                  "0": "Årsbiljett rabatterad dec - nov FTG",
                  "1": "Lång periodbiljett",
                  "2": "Adult"
                },
                {
                  "0": "UL 24 timmar vuxen",
                  "1": "Kort periodbiljett"
                },
                {
                  "0": "UL 24 timmar ungdom",
                  "1": "Kort periodbiljett"
                },
                {
                  "0": "Årsbiljett vuxen apr - mar FTG",
                  "1": "Lång periodbiljett",
                  "2": "Adult"
                },
                {
                  "0": "Årsbiljett rabatterad apr - mar FTG",
                  "1": "Lång periodbiljett",
                  "2": "Adult"
                },
                {
                  "0": "Årsbiljett vuxen maj - apr FTG",
                  "1": "Lång periodbiljett",
                  "2": "Adult"
                },
                {
                  "0": "Årsbiljett rabatterad maj - apr FTG",
                  "1": "Lång periodbiljett",
                  "2": "Adult"
                },
                {
                  "0": "MOVUX30",
                  "1": "30-dagars biljetter",
                  "2": "Adult"
                },
                {
                  "0": "MORAB30",
                  "1": "30-dagars biljetter",
                  "2": "Adult"
                },
                {
                  "0": "MOVUX30P",
                  "1": "30-dagars biljetter",
                  "2": "Adult"
                },
                {
                  "0": "MORAB30P",
                  "1": "30-dagars biljetter",
                  "2": "Adult"
                },
                {
                  "0": "MOVUX90",
                  "1": "Långa periodbiljetter",
                  "2": "Adult"
                },
                {
                  "0": "MORAB90",
                  "1": "Långa periodbiljetter",
                  "2": "Adult"
                },
                {
                  "0": "MOVUX90P",
                  "1": "Enkelbiljetter",
                  "2": "Adult"
                },
                {
                  "0": "MORAB90P",
                  "1": "Enkelbiljetter"
                },
                {
                  "0": "MOVUX365",
                  "1": "Långa periodbiljetter",
                  "2": "Adult"
                },
                {
                  "0": "MORAB365",
                  "1": "Långa periodbiljetter",
                  "2": "Adult"
                },
                {
                  "0": "MOVUX365P",
                  "1": "Enkelbiljetter"
                },
                {
                  "0": "MORAB365P",
                  "1": "Enkelbiljetter"
                },
                {
                  "0": "VUX",
                  "1": "Enkelbiljetter",
                  "2": "Single"
                },
                {
                  "0": "RAB",
                  "1": "Enkelbiljetter",
                  "2": "Single"
                },
                {
                  "0": "VSLUL125",
                  "1": "Enkelbiljetter",
                  "2": "Single"
                },
                {
                  "0": "USLUL125",
                  "1": "Enkelbiljetter",
                  "2": "Single"
                },
                {
                  "0": "VSLUL25",
                  "1": "Enkelbiljetter",
                  "2": "Single"
                },
                {
                  "0": "USLUL25",
                  "1": "Enkelbiljetter",
                  "2": "Single"
                },
                {
                  "0": "VUL125",
                  "1": "Enkelbiljetter"
                },
                {
                  "0": "UUL125",
                  "1": "Enkelbiljetter"
                },
                {
                  "0": "VUL25",
                  "1": "Enkelbiljetter"
                },
                {
                  "0": "UUL25",
                  "1": "Enkelbiljetter"
                }
              ],
              "schema": [
                {
                  "key": "0",
                  "name": "ProductName",
                  "type": "string"
                },
                {
                  "key": "1",
                  "name": "TicketType",
                  "type": "string"
                },
                {
                  "key": "2",
                  "name": "TicketCategory",
                  "type": "string"
                }
              ],
              "truncated": false
            },
            "isSummary": false,
            "language": "scala"
          },
          "persist_state": {
            "view": {
              "type": "details",
              "tableOptions": {},
              "chartOptions": {
                "chartType": "bar",
                "aggregationType": "count",
                "categoryFieldKeys": [
                  "0"
                ],
                "seriesFieldKeys": [
                  "0"
                ],
                "isStacked": false
              }
            }
          }
        }
      }
    }
  },
  "nbformat": 4,
  "nbformat_minor": 2
}